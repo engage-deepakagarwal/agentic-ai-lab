{
 "cells": [
  {
   "cell_type": "markdown",
   "metadata": {
    "vscode": {
     "languageId": "plaintext"
    }
   },
   "source": [
    "# Executing LLM-generated code poses a security risk to your host environment."
   ]
  },
  {
   "cell_type": "code",
   "execution_count": 7,
   "metadata": {},
   "outputs": [],
   "source": [
    "from autogen import ConversableAgent\n",
    "import autogen\n",
    "import tempfile\n",
    "import numpy as np\n",
    "import matplotlib"
   ]
  },
  {
   "cell_type": "code",
   "execution_count": 8,
   "metadata": {},
   "outputs": [],
   "source": [
    "# Create a local command line code executor.\n",
    "executor = autogen.coding.LocalCommandLineCodeExecutor(\n",
    "    timeout=10,  # Timeout for each code execution in seconds.\n",
    "    work_dir=\"coding\",  # Use the temporary directory to store the code files.\n",
    ")"
   ]
  },
  {
   "cell_type": "code",
   "execution_count": 9,
   "metadata": {},
   "outputs": [],
   "source": [
    "# Create an agent with code executor configuration.\n",
    "code_executor_agent = ConversableAgent(\n",
    "    \"code_executor_agent\",\n",
    "    llm_config=False,  # Turn off LLM for this agent.\n",
    "    code_execution_config={\"executor\": executor},  # Use the local command line code executor.\n",
    "    human_input_mode=\"ALWAYS\",  # Always take human input for this agent for safety.\n",
    ")"
   ]
  },
  {
   "cell_type": "code",
   "execution_count": 10,
   "metadata": {},
   "outputs": [],
   "source": [
    "message_with_code_block = \"\"\"This is a message with code block.\n",
    "The code block is below:\n",
    "```python\n",
    "import numpy as np\n",
    "import matplotlib.pyplot as plt\n",
    "x = np.random.randint(0, 100, 100)\n",
    "y = np.random.randint(0, 100, 100)\n",
    "plt.scatter(x, y)\n",
    "plt.savefig('scatter.png')\n",
    "print('Scatter plot saved to scatter.png')\n",
    "```\n",
    "This is the end of the message.\n",
    "\"\"\""
   ]
  },
  {
   "cell_type": "code",
   "execution_count": 12,
   "metadata": {},
   "outputs": [
    {
     "name": "stdout",
     "output_type": "stream",
     "text": [
      "\u001b[31m\n",
      ">>>>>>>> NO HUMAN INPUT RECEIVED.\u001b[0m\n",
      "\u001b[31m\n",
      ">>>>>>>> USING AUTO REPLY...\u001b[0m\n",
      "\u001b[31m\n",
      ">>>>>>>> EXECUTING CODE BLOCK (inferred language is python)...\u001b[0m\n",
      "exitcode: 1 (execution failed)\n",
      "Code output: Traceback (most recent call last):\n",
      "  File \"C:\\TFS\\Study\\agentic-ai\\coding\\tmp_code_e24bf32d4a21990fb9e4b5eb889ebe5a.py\", line 5, in <module>\n",
      "    plt.scatter(x, y)\n",
      "  File \"C:\\Users\\deepak.agarwal\\AppData\\Roaming\\Python\\Python310\\site-packages\\matplotlib\\pyplot.py\", line 2817, in scatter\n",
      "    __ret = gca().scatter(\n",
      "  File \"C:\\Users\\deepak.agarwal\\AppData\\Roaming\\Python\\Python310\\site-packages\\matplotlib\\pyplot.py\", line 2272, in gca\n",
      "    return gcf().gca(**kwargs)\n",
      "  File \"C:\\Users\\deepak.agarwal\\AppData\\Roaming\\Python\\Python310\\site-packages\\matplotlib\\pyplot.py\", line 865, in gcf\n",
      "    return figure()\n",
      "  File \"C:\\Users\\deepak.agarwal\\AppData\\Roaming\\Python\\Python310\\site-packages\\matplotlib\\pyplot.py\", line 806, in figure\n",
      "    manager = new_figure_manager(\n",
      "  File \"C:\\Users\\deepak.agarwal\\AppData\\Roaming\\Python\\Python310\\site-packages\\matplotlib\\pyplot.py\", line 324, in new_figure_manager\n",
      "    _warn_if_gui_out_of_main_thread()\n",
      "  File \"C:\\Users\\deepak.agarwal\\AppData\\Roaming\\Python\\Python310\\site-packages\\matplotlib\\pyplot.py\", line 314, in _warn_if_gui_out_of_main_thread\n",
      "    if (_get_required_interactive_framework(_get_backend_mod())\n",
      "  File \"C:\\Users\\deepak.agarwal\\AppData\\Roaming\\Python\\Python310\\site-packages\\matplotlib\\pyplot.py\", line 217, in _get_backend_mod\n",
      "    switch_backend(dict.__getitem__(rcParams, \"backend\"))\n",
      "  File \"C:\\Users\\deepak.agarwal\\AppData\\Roaming\\Python\\Python310\\site-packages\\matplotlib\\pyplot.py\", line 282, in switch_backend\n",
      "    class backend_mod(matplotlib.backend_bases._Backend):\n",
      "  File \"C:\\Users\\deepak.agarwal\\AppData\\Roaming\\Python\\Python310\\site-packages\\matplotlib\\pyplot.py\", line 283, in backend_mod\n",
      "    locals().update(vars(importlib.import_module(backend_name)))\n",
      "  File \"C:\\Users\\deepak.agarwal\\AppData\\Local\\Programs\\Python\\Python310\\lib\\importlib\\__init__.py\", line 126, in import_module\n",
      "    return _bootstrap._gcd_import(name[level:], package, level)\n",
      "  File \"<frozen importlib._bootstrap>\", line 1050, in _gcd_import\n",
      "  File \"<frozen importlib._bootstrap>\", line 1027, in _find_and_load\n",
      "  File \"<frozen importlib._bootstrap>\", line 992, in _find_and_load_unlocked\n",
      "  File \"<frozen importlib._bootstrap>\", line 241, in _call_with_frames_removed\n",
      "  File \"<frozen importlib._bootstrap>\", line 1050, in _gcd_import\n",
      "  File \"<frozen importlib._bootstrap>\", line 1027, in _find_and_load\n",
      "  File \"<frozen importlib._bootstrap>\", line 1006, in _find_and_load_unlocked\n",
      "  File \"<frozen importlib._bootstrap>\", line 688, in _load_unlocked\n",
      "  File \"<frozen importlib._bootstrap_external>\", line 883, in exec_module\n",
      "  File \"<frozen importlib._bootstrap>\", line 241, in _call_with_frames_removed\n",
      "  File \"C:\\Users\\deepak.agarwal\\AppData\\Roaming\\Python\\Python310\\site-packages\\matplotlib_inline\\__init__.py\", line 1, in <module>\n",
      "    from . import backend_inline, config  # noqa\n",
      "  File \"C:\\Users\\deepak.agarwal\\AppData\\Roaming\\Python\\Python310\\site-packages\\matplotlib_inline\\backend_inline.py\", line 13, in <module>\n",
      "    from IPython.core.interactiveshell import InteractiveShell\n",
      "ModuleNotFoundError: No module named 'IPython'\n",
      "\n"
     ]
    }
   ],
   "source": [
    "# Generate a reply for the given code.\n",
    "reply = code_executor_agent.generate_reply(messages=[{\"role\": \"user\", \"content\": message_with_code_block}])\n",
    "print(reply)\n",
    "\n"
   ]
  },
  {
   "cell_type": "markdown",
   "metadata": {},
   "source": [
    "Ignore the error related to IPython which you might get. The code file will be present in \"coding\" folder which you can run and get the .png file."
   ]
  }
 ],
 "metadata": {
  "kernelspec": {
   "display_name": ".venv",
   "language": "python",
   "name": "python3"
  },
  "language_info": {
   "codemirror_mode": {
    "name": "ipython",
    "version": 3
   },
   "file_extension": ".py",
   "mimetype": "text/x-python",
   "name": "python",
   "nbconvert_exporter": "python",
   "pygments_lexer": "ipython3",
   "version": "3.10.11"
  }
 },
 "nbformat": 4,
 "nbformat_minor": 2
}
