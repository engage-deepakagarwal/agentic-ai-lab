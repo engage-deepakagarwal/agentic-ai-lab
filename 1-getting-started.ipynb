{
 "cells": [
  {
   "cell_type": "code",
   "execution_count": 1,
   "metadata": {},
   "outputs": [
    {
     "name": "stderr",
     "output_type": "stream",
     "text": [
      "c:\\TFS\\Study\\agentic-ai\\.venv\\lib\\site-packages\\flaml\\__init__.py:20: UserWarning: flaml.automl is not available. Please install flaml[automl] to enable AutoML functionalities.\n",
      "  warnings.warn(\"flaml.automl is not available. Please install flaml[automl] to enable AutoML functionalities.\")\n"
     ]
    }
   ],
   "source": [
    "import autogen\n",
    "from autogen import AssistantAgent, UserProxyAgent\n"
   ]
  },
  {
   "cell_type": "code",
   "execution_count": 2,
   "metadata": {},
   "outputs": [],
   "source": [
    "config_list = autogen.config_list_from_json(\n",
    "    env_or_file=\"AOAI_CONFIG_LIST\",\n",
    "    file_location=\".\",\n",
    "    filter_dict={\n",
    "        \"model\": {\n",
    "            \"gpt-4o\"\n",
    "        }\n",
    "    },\n",
    ")"
   ]
  },
  {
   "cell_type": "code",
   "execution_count": 3,
   "metadata": {},
   "outputs": [],
   "source": [
    "assistant = AssistantAgent(\"assistant\", llm_config={\"config_list\": config_list})"
   ]
  },
  {
   "cell_type": "code",
   "execution_count": 4,
   "metadata": {},
   "outputs": [],
   "source": [
    "user_proxy = UserProxyAgent(\"user_proxy\", code_execution_config=False)"
   ]
  },
  {
   "cell_type": "code",
   "execution_count": 5,
   "metadata": {},
   "outputs": [
    {
     "name": "stdout",
     "output_type": "stream",
     "text": [
      "\u001b[33muser_proxy\u001b[0m (to assistant):\n",
      "\n",
      "Tell me a joke about NVDA and TESLA stock prices.\n",
      "\n",
      "--------------------------------------------------------------------------------\n",
      "\u001b[33massistant\u001b[0m (to user_proxy):\n",
      "\n",
      "Sure, here's a joke for you:\n",
      "\n",
      "Why did NVDA and Tesla go to therapy together?\n",
      "\n",
      "Because their stock prices couldn't stop seeing ups and downs—it’s electrifying! 🚀📉📈\n",
      "\n",
      "TERMINATE\n",
      "\n",
      "--------------------------------------------------------------------------------\n"
     ]
    },
    {
     "data": {
      "text/plain": [
       "ChatResult(chat_id=None, chat_history=[{'content': 'Tell me a joke about NVDA and TESLA stock prices.', 'role': 'assistant', 'name': 'user_proxy'}, {'content': \"Sure, here's a joke for you:\\n\\nWhy did NVDA and Tesla go to therapy together?\\n\\nBecause their stock prices couldn't stop seeing ups and downs—it’s electrifying! 🚀📉📈\\n\\nTERMINATE\", 'role': 'user', 'name': 'assistant'}], summary=\"Sure, here's a joke for you:\\n\\nWhy did NVDA and Tesla go to therapy together?\\n\\nBecause their stock prices couldn't stop seeing ups and downs—it’s electrifying! 🚀📉📈\\n\\n\", cost={'usage_including_cached_inference': {'total_cost': 0.0030549999999999996, 'gpt-4o-2024-05-13': {'cost': 0.0030549999999999996, 'prompt_tokens': 479, 'completion_tokens': 44, 'total_tokens': 523}}, 'usage_excluding_cached_inference': {'total_cost': 0.0030549999999999996, 'gpt-4o-2024-05-13': {'cost': 0.0030549999999999996, 'prompt_tokens': 479, 'completion_tokens': 44, 'total_tokens': 523}}}, human_input=['exit'])"
      ]
     },
     "execution_count": 5,
     "metadata": {},
     "output_type": "execute_result"
    }
   ],
   "source": [
    "# Start the chat\n",
    "user_proxy.initiate_chat(\n",
    "    assistant,\n",
    "    message=\"Tell me a joke about NVDA and TESLA stock prices.\",\n",
    ")"
   ]
  },
  {
   "cell_type": "code",
   "execution_count": 6,
   "metadata": {},
   "outputs": [],
   "source": [
    "user_proxy = UserProxyAgent(\n",
    "    \"user_proxy\", \n",
    "    code_execution_config=\n",
    "    {\n",
    "        \"executor\": autogen.coding.LocalCommandLineCodeExecutor(work_dir=\"coding\")\n",
    "    }\n",
    ")\n"
   ]
  },
  {
   "cell_type": "code",
   "execution_count": 7,
   "metadata": {},
   "outputs": [
    {
     "name": "stdout",
     "output_type": "stream",
     "text": [
      "\u001b[33muser_proxy\u001b[0m (to assistant):\n",
      "\n",
      "Plot a chart of NVDA and TESLA stock price change YTD.\n",
      "\n",
      "--------------------------------------------------------------------------------\n",
      "\u001b[33massistant\u001b[0m (to user_proxy):\n",
      "\n",
      "To plot a chart of NVDA (NVIDIA) and TSLA (Tesla) stock price changes year-to-date (YTD), we'll follow these steps:\n",
      "1. Gather the YTD stock price data for both NVDA and TSLA.\n",
      "2. Plot the data using a suitable visualization library like Matplotlib. \n",
      "\n",
      "Here is a full Python script that accomplishes these tasks:\n",
      "\n",
      "```python\n",
      "# filename: plot_stocks_ytd.py\n",
      "import yfinance as yf\n",
      "import matplotlib.pyplot as plt\n",
      "\n",
      "# Define the stock tickers and the date range\n",
      "tickers = ['NVDA', 'TSLA']\n",
      "start_date = '2023-01-01'\n",
      "end_date = '2023-12-31' # Assuming we want YTD till end of 2023. Adjust as needed.\n",
      "\n",
      "# Download stock data\n",
      "data = yf.download(tickers, start=start_date, end=end_date)\n",
      "\n",
      "# Extract the adjusted close prices\n",
      "adjusted_close = data['Adj Close']\n",
      "\n",
      "# Calculate the percentage changes relative to the first trading day of the year\n",
      "percent_changes = adjusted_close.pct_change().fillna(0)\n",
      "\n",
      "for ticker in tickers:\n",
      "    percent_changes[ticker] = (adjusted_close[ticker] / adjusted_close[ticker].iloc[0] - 1) * 100\n",
      "\n",
      "# Plot the percent changes\n",
      "plt.figure(figsize=(14, 7))\n",
      "for ticker in tickers:\n",
      "    plt.plot(percent_changes.index, percent_changes[ticker], label=ticker)\n",
      "\n",
      "# Labeling the plot\n",
      "plt.title('YTD Stock Price Changes in 2023')\n",
      "plt.xlabel('Date')\n",
      "plt.ylabel('Percentage Change (%)')\n",
      "plt.legend()\n",
      "plt.grid(True)\n",
      "plt.show()\n",
      "```\n",
      "\n",
      "This script will:\n",
      "1. Use the `yfinance` package to download historical stock price data for NVDA and TSLA.\n",
      "2. Calculate the percentage changes in stock prices from the start of the year to the most recent available data.\n",
      "3. Plot the percentage changes over time using `matplotlib`.\n",
      "\n",
      "Please save this code to a file named `plot_stocks_ytd.py` and run it. Note that you might need to install the required packages (`yfinance` and `matplotlib`) if you do not already have them. You can install them using pip:\n",
      "\n",
      "```sh\n",
      "pip install yfinance matplotlib\n",
      "```\n",
      "\n",
      "After running the script, a plot will be displayed showing the YTD stock price changes for NVDA and TSLA. If additional adjustments or further explanations are needed, feel free to let me know.\n",
      "\n",
      "--------------------------------------------------------------------------------\n"
     ]
    },
    {
     "data": {
      "text/plain": [
       "ChatResult(chat_id=None, chat_history=[{'content': 'Plot a chart of NVDA and TESLA stock price change YTD.', 'role': 'assistant', 'name': 'user_proxy'}, {'content': \"To plot a chart of NVDA (NVIDIA) and TSLA (Tesla) stock price changes year-to-date (YTD), we'll follow these steps:\\n1. Gather the YTD stock price data for both NVDA and TSLA.\\n2. Plot the data using a suitable visualization library like Matplotlib. \\n\\nHere is a full Python script that accomplishes these tasks:\\n\\n```python\\n# filename: plot_stocks_ytd.py\\nimport yfinance as yf\\nimport matplotlib.pyplot as plt\\n\\n# Define the stock tickers and the date range\\ntickers = ['NVDA', 'TSLA']\\nstart_date = '2023-01-01'\\nend_date = '2023-12-31' # Assuming we want YTD till end of 2023. Adjust as needed.\\n\\n# Download stock data\\ndata = yf.download(tickers, start=start_date, end=end_date)\\n\\n# Extract the adjusted close prices\\nadjusted_close = data['Adj Close']\\n\\n# Calculate the percentage changes relative to the first trading day of the year\\npercent_changes = adjusted_close.pct_change().fillna(0)\\n\\nfor ticker in tickers:\\n    percent_changes[ticker] = (adjusted_close[ticker] / adjusted_close[ticker].iloc[0] - 1) * 100\\n\\n# Plot the percent changes\\nplt.figure(figsize=(14, 7))\\nfor ticker in tickers:\\n    plt.plot(percent_changes.index, percent_changes[ticker], label=ticker)\\n\\n# Labeling the plot\\nplt.title('YTD Stock Price Changes in 2023')\\nplt.xlabel('Date')\\nplt.ylabel('Percentage Change (%)')\\nplt.legend()\\nplt.grid(True)\\nplt.show()\\n```\\n\\nThis script will:\\n1. Use the `yfinance` package to download historical stock price data for NVDA and TSLA.\\n2. Calculate the percentage changes in stock prices from the start of the year to the most recent available data.\\n3. Plot the percentage changes over time using `matplotlib`.\\n\\nPlease save this code to a file named `plot_stocks_ytd.py` and run it. Note that you might need to install the required packages (`yfinance` and `matplotlib`) if you do not already have them. You can install them using pip:\\n\\n```sh\\npip install yfinance matplotlib\\n```\\n\\nAfter running the script, a plot will be displayed showing the YTD stock price changes for NVDA and TSLA. If additional adjustments or further explanations are needed, feel free to let me know.\", 'role': 'user', 'name': 'assistant'}], summary=\"To plot a chart of NVDA (NVIDIA) and TSLA (Tesla) stock price changes year-to-date (YTD), we'll follow these steps:\\n1. Gather the YTD stock price data for both NVDA and TSLA.\\n2. Plot the data using a suitable visualization library like Matplotlib. \\n\\nHere is a full Python script that accomplishes these tasks:\\n\\n```python\\n# filename: plot_stocks_ytd.py\\nimport yfinance as yf\\nimport matplotlib.pyplot as plt\\n\\n# Define the stock tickers and the date range\\ntickers = ['NVDA', 'TSLA']\\nstart_date = '2023-01-01'\\nend_date = '2023-12-31' # Assuming we want YTD till end of 2023. Adjust as needed.\\n\\n# Download stock data\\ndata = yf.download(tickers, start=start_date, end=end_date)\\n\\n# Extract the adjusted close prices\\nadjusted_close = data['Adj Close']\\n\\n# Calculate the percentage changes relative to the first trading day of the year\\npercent_changes = adjusted_close.pct_change().fillna(0)\\n\\nfor ticker in tickers:\\n    percent_changes[ticker] = (adjusted_close[ticker] / adjusted_close[ticker].iloc[0] - 1) * 100\\n\\n# Plot the percent changes\\nplt.figure(figsize=(14, 7))\\nfor ticker in tickers:\\n    plt.plot(percent_changes.index, percent_changes[ticker], label=ticker)\\n\\n# Labeling the plot\\nplt.title('YTD Stock Price Changes in 2023')\\nplt.xlabel('Date')\\nplt.ylabel('Percentage Change (%)')\\nplt.legend()\\nplt.grid(True)\\nplt.show()\\n```\\n\\nThis script will:\\n1. Use the `yfinance` package to download historical stock price data for NVDA and TSLA.\\n2. Calculate the percentage changes in stock prices from the start of the year to the most recent available data.\\n3. Plot the percentage changes over time using `matplotlib`.\\n\\nPlease save this code to a file named `plot_stocks_ytd.py` and run it. Note that you might need to install the required packages (`yfinance` and `matplotlib`) if you do not already have them. You can install them using pip:\\n\\n```sh\\npip install yfinance matplotlib\\n```\\n\\nAfter running the script, a plot will be displayed showing the YTD stock price changes for NVDA and TSLA. If additional adjustments or further explanations are needed, feel free to let me know.\", cost={'usage_including_cached_inference': {'total_cost': 0.013125000000000001, 'gpt-4o-2024-05-13': {'cost': 0.013125000000000001, 'prompt_tokens': 960, 'completion_tokens': 555, 'total_tokens': 1515}}, 'usage_excluding_cached_inference': {'total_cost': 0.0030549999999999996, 'gpt-4o-2024-05-13': {'cost': 0.0030549999999999996, 'prompt_tokens': 479, 'completion_tokens': 44, 'total_tokens': 523}}}, human_input=['exit'])"
      ]
     },
     "execution_count": 7,
     "metadata": {},
     "output_type": "execute_result"
    }
   ],
   "source": [
    "# Start the chat\n",
    "user_proxy.initiate_chat(\n",
    "    assistant,\n",
    "    message=\"Plot a chart of NVDA and TESLA stock price change YTD.\"\n",
    ")"
   ]
  }
 ],
 "metadata": {
  "kernelspec": {
   "display_name": ".venv",
   "language": "python",
   "name": "python3"
  },
  "language_info": {
   "codemirror_mode": {
    "name": "ipython",
    "version": 3
   },
   "file_extension": ".py",
   "mimetype": "text/x-python",
   "name": "python",
   "nbconvert_exporter": "python",
   "pygments_lexer": "ipython3",
   "version": "3.10.11"
  }
 },
 "nbformat": 4,
 "nbformat_minor": 2
}
