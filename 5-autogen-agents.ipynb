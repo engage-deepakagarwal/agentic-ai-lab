{
 "cells": [
  {
   "cell_type": "markdown",
   "id": "97b738bc",
   "metadata": {},
   "source": [
    "# Introduction"
   ]
  },
  {
   "cell_type": "markdown",
   "id": "c68c4c43",
   "metadata": {},
   "source": [
    "- AutoGen 0.4 released in January 2025\n",
    "- From the ground-up rewrite adopting an asynchronous, event-driven architecture to address issues such as observability, flexibility, interactive control, and scale."
   ]
  },
  {
   "cell_type": "markdown",
   "id": "bd28d4b1",
   "metadata": {},
   "source": [
    "# AutoGen Drama"
   ]
  },
  {
   "cell_type": "markdown",
   "id": "7848ca86",
   "metadata": {},
   "source": [
    "- Several of the original developers of AutoGen left Microsoft and split off in late 2024 to create a fork of AutoGen\n",
    "- Called AG2 or AgentOS 2, compatible with earlier AutoGen 0.2\n",
    "- If you pip install autogen, you get AG2!"
   ]
  },
  {
   "cell_type": "markdown",
   "id": "40deb439",
   "metadata": {},
   "source": [
    "# Agent Core"
   ]
  },
  {
   "cell_type": "markdown",
   "id": "2923a42d",
   "metadata": {},
   "source": [
    "An event-driven programming framework for building scalable multi-agent AI systems. Example scenarios:\n",
    "- Deterministic and dynamic agentic workflows for business processes.\n",
    "- Research on multi-agent collaboration.\n",
    "- Distributed agents for multi-language applications."
   ]
  },
  {
   "cell_type": "markdown",
   "id": "16738af0",
   "metadata": {},
   "source": [
    "# AutoGen AgentChat"
   ]
  },
  {
   "cell_type": "markdown",
   "id": "735164f6",
   "metadata": {},
   "source": [
    "- A programming framework for building conversational single and multi-agent applications. \n",
    "- Built on Core. \n",
    "- Requires Python 3.10+"
   ]
  },
  {
   "cell_type": "markdown",
   "id": "6314b86f",
   "metadata": {},
   "source": [
    "## Models\n"
   ]
  },
  {
   "cell_type": "markdown",
   "id": "fc139422",
   "metadata": {},
   "source": [
    "#### Overview"
   ]
  },
  {
   "cell_type": "markdown",
   "id": "5ad2c976",
   "metadata": {},
   "source": [
    "- In many cases, agents need access to LLM model services such as OpenAI, Azure OpenAI, or local models.\n",
    "- `autogen-core` implements a protocol for model clients and `autogen-ext` implements a set of model clients for popular model services. \n",
    "- `AgentChat` can use these model clients to interact with model services."
   ]
  },
  {
   "cell_type": "markdown",
   "id": "176dbb2b",
   "metadata": {},
   "source": [
    "#### OpenAI"
   ]
  },
  {
   "cell_type": "markdown",
   "id": "3e00aa37",
   "metadata": {},
   "source": [
    "You can use this client with most models hosted on OpenAI-compatible endpoints. Try it out first."
   ]
  },
  {
   "cell_type": "code",
   "execution_count": null,
   "id": "2fc3ce33",
   "metadata": {},
   "outputs": [],
   "source": [
    "!pip install \"autogen-ext[openai]\""
   ]
  },
  {
   "cell_type": "code",
   "execution_count": null,
   "id": "fd9bc9a2",
   "metadata": {},
   "outputs": [],
   "source": [
    "from autogen_ext.models.openai import OpenAIChatCompletionClient\n",
    "import tiktoken\n",
    "openai_model_client = OpenAIChatCompletionClient(\n",
    "    model=\"gpt-4o-mini\",\n",
    "    # api_key=\"sk-...\", # Optional if you have an OPENAI_API_KEY environment variable set.\n",
    ")"
   ]
  },
  {
   "cell_type": "code",
   "execution_count": null,
   "id": "28a2e0fc",
   "metadata": {},
   "outputs": [],
   "source": [
    "from autogen_core.models import UserMessage\n",
    "\n",
    "result = await openai_model_client.create([UserMessage(content=\"What is the capital of France?\", source=\"user\")])\n",
    "print(result)\n",
    "await openai_model_client.close()"
   ]
  },
  {
   "cell_type": "markdown",
   "id": "b9a305f5",
   "metadata": {},
   "source": [
    "#### Azure OpenAI "
   ]
  },
  {
   "cell_type": "code",
   "execution_count": null,
   "id": "55f6015e",
   "metadata": {},
   "outputs": [],
   "source": [
    "!pip install \"autogen-ext[openai,azure]\""
   ]
  },
  {
   "cell_type": "markdown",
   "id": "6a20e0d0",
   "metadata": {},
   "source": [
    "- To use the client, you need to provide your deployment id, Azure Cognitive Services endpoint, api version, and model capabilities. \n",
    "- For authentication, you can either provide an API key or an Azure Active Directory (AAD) token credential.\n",
    "- The identity used must be assigned the Cognitive Services OpenAI User role."
   ]
  },
  {
   "cell_type": "code",
   "execution_count": null,
   "id": "2338af3b",
   "metadata": {},
   "outputs": [],
   "source": [
    "from autogen_core.models import UserMessage\n",
    "from autogen_ext.auth.azure import AzureTokenProvider\n",
    "from autogen_ext.models.openai import AzureOpenAIChatCompletionClient\n",
    "from azure.identity import DefaultAzureCredential\n",
    "\n",
    "# Create the token provider\n",
    "token_provider = AzureTokenProvider(\n",
    "    DefaultAzureCredential(),\n",
    "    \"https://cognitiveservices.azure.com/.default\",\n",
    ")\n",
    "\n",
    "az_model_client = AzureOpenAIChatCompletionClient(\n",
    "    azure_deployment=\"{your-azure-deployment}\",\n",
    "    model=\"{model-name, such as gpt-4o}\",\n",
    "    api_version=\"2024-06-01\",\n",
    "    azure_endpoint=\"https://{your-custom-endpoint}.openai.azure.com/\",\n",
    "    azure_ad_token_provider=token_provider,  # Optional if you choose key-based authentication.\n",
    "    # api_key=\"sk-...\", # For key-based authentication.\n",
    ")\n",
    "\n",
    "result = await az_model_client.create([UserMessage(content=\"What is the capital of France?\", source=\"user\")])\n",
    "print(result)\n",
    "await az_model_client.close()\n"
   ]
  },
  {
   "cell_type": "markdown",
   "id": "2e4e4485",
   "metadata": {},
   "source": [
    "#### Ollama (experimental)"
   ]
  },
  {
   "cell_type": "code",
   "execution_count": null,
   "id": "2a300c82",
   "metadata": {},
   "outputs": [],
   "source": [
    "!pip install -U \"autogen-ext[ollama]\""
   ]
  },
  {
   "cell_type": "code",
   "execution_count": null,
   "id": "209fe45b",
   "metadata": {},
   "outputs": [],
   "source": [
    "from autogen_ext.models.ollama import OllamaChatCompletionClient\n",
    "ollamamodel_client = OllamaChatCompletionClient(model=\"llama3.2\")"
   ]
  },
  {
   "cell_type": "markdown",
   "id": "66c0eb28",
   "metadata": {},
   "source": [
    "#### Azure AI Foundry"
   ]
  },
  {
   "cell_type": "markdown",
   "id": "e045daa2",
   "metadata": {},
   "source": [
    "Azure AI Foundry (previously known as Azure AI Studio) offers models hosted on Azure. "
   ]
  },
  {
   "cell_type": "code",
   "execution_count": null,
   "id": "6f692214",
   "metadata": {},
   "outputs": [],
   "source": [
    "!pip install \"autogen-ext[azure]\""
   ]
  },
  {
   "cell_type": "code",
   "execution_count": null,
   "id": "4585caae",
   "metadata": {},
   "outputs": [],
   "source": [
    "import os\n",
    "\n",
    "from autogen_core.models import UserMessage\n",
    "from autogen_ext.models.azure import AzureAIChatCompletionClient\n",
    "from azure.core.credentials import AzureKeyCredential\n",
    "\n",
    "client = AzureAIChatCompletionClient(\n",
    "    model=\"Phi-4\",\n",
    "    endpoint=\"https://models.github.ai/inference\",\n",
    "    # To authenticate with the model you will need to generate a personal access token (PAT) in your GitHub settings.\n",
    "    # Create your PAT token by following instructions here: https://docs.github.com/en/authentication/keeping-your-account-and-data-secure/managing-your-personal-access-tokens\n",
    "    credential=AzureKeyCredential(os.environ[\"GITHUB_TOKEN\"]),\n",
    "    model_info={\n",
    "        \"json_output\": False,\n",
    "        \"function_calling\": False,\n",
    "        \"vision\": False,\n",
    "        \"family\": \"unknown\",\n",
    "        \"structured_output\": False,\n",
    "    },\n",
    ")\n",
    "\n",
    "result = await client.create([UserMessage(content=\"What is the capital of France?\", source=\"user\")])\n",
    "print(result)\n",
    "await client.close()\n"
   ]
  },
  {
   "cell_type": "markdown",
   "id": "0dca326e",
   "metadata": {},
   "source": [
    "### Log Model Calls"
   ]
  },
  {
   "cell_type": "markdown",
   "id": "f6b2f7f0",
   "metadata": {},
   "source": [
    "- AutoGen uses standard Python logging module to log events like model calls and responses. \n",
    "- The logger name is `autogen_core.EVENT_LOGGER_NAME`, and the event type is `LLMCall`."
   ]
  },
  {
   "cell_type": "code",
   "execution_count": null,
   "id": "4f5dae3d",
   "metadata": {},
   "outputs": [],
   "source": [
    "import logging\n",
    "\n",
    "from autogen_core import EVENT_LOGGER_NAME\n",
    "\n",
    "logging.basicConfig(level=logging.WARNING)\n",
    "logger = logging.getLogger(EVENT_LOGGER_NAME)\n",
    "logger.addHandler(logging.StreamHandler())\n",
    "logger.setLevel(logging.INFO)"
   ]
  },
  {
   "cell_type": "markdown",
   "id": "567d80eb",
   "metadata": {},
   "source": [
    "## Messages\n",
    "- `messages` facilitate communication and information exchange with other agents, orchestrators, and applications. "
   ]
  },
  {
   "cell_type": "markdown",
   "id": "b0b42acf",
   "metadata": {},
   "source": [
    "### Types of Messages"
   ]
  },
  {
   "cell_type": "markdown",
   "id": "029d0129",
   "metadata": {},
   "source": [
    "At a high level, messages in `AgentChat` can be categorized into two types: `agent-agent` messages and an `agent's internal events and messages`."
   ]
  },
  {
   "cell_type": "markdown",
   "id": "b6bf3ba8",
   "metadata": {},
   "source": [
    "#### Agent-Agent Messages"
   ]
  },
  {
   "cell_type": "markdown",
   "id": "1ca3ce7b",
   "metadata": {},
   "source": [
    "- They belong to subclasses of the base class `BaseChatMessage`.\n",
    "- Concrete subclasses covers basic text and multimodal communication"
   ]
  },
  {
   "cell_type": "markdown",
   "id": "1054d5a0",
   "metadata": {},
   "source": [
    "##### TextMessage"
   ]
  },
  {
   "cell_type": "code",
   "execution_count": null,
   "id": "991fea83",
   "metadata": {},
   "outputs": [],
   "source": [
    "from autogen_agentchat.messages import TextMessage\n",
    "message = TextMessage(content=\"I'd like to go to London\", source=\"user\")\n",
    "message"
   ]
  },
  {
   "cell_type": "markdown",
   "id": "f35b8b56",
   "metadata": {},
   "source": [
    "##### MultiModalMessage"
   ]
  },
  {
   "cell_type": "code",
   "execution_count": null,
   "id": "9ced3ae4",
   "metadata": {},
   "outputs": [],
   "source": [
    "from io import BytesIO\n",
    "import requests\n",
    "from autogen_agentchat.messages import TextMessage, MultiModalMessage\n",
    "from autogen_core import Image as AGImage\n",
    "from PIL import Image\n",
    "from dotenv import load_dotenv\n",
    "from autogen_ext.models.openai import OpenAIChatCompletionClient\n",
    "from autogen_agentchat.agents import AssistantAgent\n",
    "from autogen_core import CancellationToken\n",
    "from IPython.display import display, Markdown\n",
    "from pydantic import BaseModel, Field\n",
    "from typing import Literal\n",
    "\n",
    "load_dotenv(override=True)"
   ]
  },
  {
   "cell_type": "markdown",
   "id": "4f6c4527",
   "metadata": {},
   "source": [
    "What is `AGImage`?\n",
    "- **AGImage** is AutoGen's specialized image wrapper class that enables multimodal AI agents to work with image data. It's imported from `autogen_core` and serves as a bridge between standard Python image formats (like PIL Images) and AutoGen's agent communication system.\n",
    "- In the code example, **AGImage** is being used to convert a PIL (Python Imaging Library) image into AutoGen's native image format. The process starts by downloading an image from a URL using the `requests` library, converting the response content into a BytesIO stream, opening it as a PIL Image, and then wrapping it with **AGImage**. This transformation is necessary because AutoGen agents need images in a specific format to include them in multimodal messages.\n",
    "- **AGImage** acts as a standardized container that ensures images can be properly serialized, transmitted between agents, and processed by vision-capable language models. It abstracts away the complexity of handling different image formats and provides a consistent interface for agents to work with visual data."
   ]
  },
  {
   "cell_type": "code",
   "execution_count": null,
   "id": "febb0b6f",
   "metadata": {},
   "outputs": [],
   "source": [
    "url = \"https://edwarddonner.com/wp-content/uploads/2024/10/from-software-engineer-to-AI-DS.jpeg\"\n",
    "\n",
    "pil_image = Image.open(BytesIO(requests.get(url).content))\n",
    "img = AGImage(pil_image)\n",
    "img"
   ]
  },
  {
   "cell_type": "code",
   "execution_count": null,
   "id": "df82c2f1",
   "metadata": {},
   "outputs": [],
   "source": [
    "message = MultiModalMessage(\n",
    "    content=[\"Describe the content of this image in detail\", img],\n",
    "    source=\"user\")"
   ]
  },
  {
   "cell_type": "code",
   "execution_count": null,
   "id": "72f59eba",
   "metadata": {},
   "outputs": [],
   "source": [
    "model_client = OpenAIChatCompletionClient(model=\"gpt-4o-mini\")\n",
    "image_description_agent = AssistantAgent(\n",
    "    name=\"image_description_agent\",\n",
    "    model_client=model_client,\n",
    "    system_message=\"You are a helpful assistant for describing images.\",\n",
    "    model_client_stream=True)\n",
    "\n",
    "response = await image_description_agent.on_messages([message], cancellation_token=CancellationToken())\n",
    "reply = response.chat_message.content\n",
    "display(Markdown(reply))"
   ]
  },
  {
   "cell_type": "markdown",
   "id": "99d3b920",
   "metadata": {},
   "source": [
    "#### Agent Internal Events"
   ]
  },
  {
   "cell_type": "markdown",
   "id": "7cca00b9",
   "metadata": {},
   "source": [
    "- AgentChat also supports the concept of `events` - messages that are internal to an agent\n",
    "- These messages are used to communicate events and information on actions within the agent itself\n",
    "- Base class `BaseAgentEvent`\n",
    "- Examples:\n",
    "  - `ToolCallRequestEvent`: Indicates that a request was made to call a tool.\n",
    "  - `ToolCallExecutionEvent`: Contains the results of tool calls.\n",
    "- `events` are created by the agent itself and are contained in the `inner_messages` field of the `Response` returned from `on_messages`"
   ]
  },
  {
   "cell_type": "markdown",
   "id": "636fd9e0",
   "metadata": {},
   "source": [
    "#### Custom Message Types"
   ]
  },
  {
   "cell_type": "markdown",
   "id": "343b4ddd",
   "metadata": {},
   "source": [
    "- You can create custom message types by subclassing the base class `BaseChatMessage` or `BaseAgentEvent`.\n",
    "- Custom message types are useful when you write custom agents."
   ]
  },
  {
   "cell_type": "markdown",
   "id": "0268c0d3",
   "metadata": {},
   "source": [
    "## Agents"
   ]
  },
  {
   "cell_type": "markdown",
   "id": "abb3dda6",
   "metadata": {},
   "source": [
    "### Overview"
   ]
  },
  {
   "cell_type": "markdown",
   "id": "babb8c34",
   "metadata": {},
   "source": [
    "- AutoGen AgentChat provides a set of preset Agents, each with variations in how an agent might respond to messages. \n",
    "- All agents share the following attributes and methods:\n",
    "  - `name`: The unique name of the agent.\n",
    "  - `description`: The description of the agent in text.\n",
    "  - `run`: \n",
    "    - The method that runs the agent given a task as a string or a list of messages, and returns a TaskResult. \n",
    "    - Agents are expected to be stateful and this method is expected to be called with new messages, not complete history.\n",
    "  - `run_stream`: Same as run() but returns an iterator of messages that subclass `BaseAgentEvent` or `BaseChatMessage` followed by a `TaskResult` as the last item."
   ]
  },
  {
   "cell_type": "markdown",
   "id": "820a7b89",
   "metadata": {},
   "source": [
    "### Assistant Agent"
   ]
  },
  {
   "cell_type": "markdown",
   "id": "abcce145",
   "metadata": {},
   "source": [
    "- `AssistantAgent` is a built-in agent that uses a language model and has the ability to use tools."
   ]
  },
  {
   "cell_type": "code",
   "execution_count": null,
   "id": "87dad3a4",
   "metadata": {},
   "outputs": [],
   "source": [
    "from autogen_agentchat.agents import AssistantAgent\n",
    "from autogen_ext.models.openai import OpenAIChatCompletionClient\n",
    "from dotenv import load_dotenv\n",
    "load_dotenv(override=True)"
   ]
  },
  {
   "cell_type": "code",
   "execution_count": null,
   "id": "445b05e1",
   "metadata": {},
   "outputs": [],
   "source": [
    "from autogen_core import CancellationToken\n",
    "\n",
    "response = await agent.on_messages([message], cancellation_token=CancellationToken())\n",
    "response.chat_message.content\n",
    "\n",
    "# CancellationToken: \n",
    "# 1. Provides a mechanism for cooperative cancellation of asynchronous operations. \n",
    "# 2. This is a common pattern in async programming that allows long-running operations to be gracefully interrupted when needed.\n",
    "# 3. When a caller wants to cancel an ongoing operation (perhaps due to a timeout, user request, or system shutdown), they can signal this through the cancellation token. \n",
    "# 4. The async method can then check this token periodically and respond appropriately by cleaning up resources and exiting early.\n",
    "# 5. Without a cancellation mechanism, there would be no way to interrupt these operations once they've started."
   ]
  },
  {
   "cell_type": "markdown",
   "id": "8ef977b8",
   "metadata": {},
   "source": [
    "Local database of ticket prices"
   ]
  },
  {
   "cell_type": "code",
   "execution_count": null,
   "id": "1af80745",
   "metadata": {},
   "outputs": [],
   "source": [
    "import os\n",
    "import sqlite3\n",
    "\n",
    "if os.path.exists(\"tickets.db\"):\n",
    "    os.remove(\"tickets.db\")\n",
    "# Create the database and the table\n",
    "conn = sqlite3.connect(\"tickets.db\")\n",
    "cursor = conn.cursor()\n",
    "cursor.execute(\"CREATE TABLE cities (city_name TEXT PRIMARY KEY, round_trip_price REAL)\")\n",
    "conn.commit()\n",
    "conn.close()"
   ]
  },
  {
   "cell_type": "code",
   "execution_count": null,
   "id": "fac806bd",
   "metadata": {},
   "outputs": [],
   "source": [
    "# Populate the database with some sample data\n",
    "def save_city_price(city_name, round_trip_price):\n",
    "    conn = sqlite3.connect(\"tickets.db\")\n",
    "    c = conn.cursor()\n",
    "    c.execute(\"REPLACE INTO cities (city_name, round_trip_price) VALUES (?, ?)\", (city_name.lower(), round_trip_price))\n",
    "    conn.commit()\n",
    "    conn.close()"
   ]
  },
  {
   "cell_type": "code",
   "execution_count": null,
   "id": "57bbd5eb",
   "metadata": {},
   "outputs": [],
   "source": [
    "# Some cities!\n",
    "save_city_price(\"London\", 299)\n",
    "save_city_price(\"Paris\", 399)\n",
    "save_city_price(\"Rome\", 499)\n",
    "save_city_price(\"Madrid\", 550)\n",
    "save_city_price(\"Barcelona\", 580)\n",
    "save_city_price(\"Berlin\", 525)"
   ]
  },
  {
   "cell_type": "code",
   "execution_count": null,
   "id": "d5cb4adf",
   "metadata": {},
   "outputs": [],
   "source": [
    "# Method to get price for a city\n",
    "def get_city_price(city_name: str) -> float | None:\n",
    "    \"\"\" Get the roundtrip ticket price to travel to the city \"\"\"\n",
    "    conn = sqlite3.connect(\"tickets.db\")\n",
    "    c = conn.cursor()\n",
    "    c.execute(\"SELECT round_trip_price FROM cities WHERE city_name = ?\", (city_name.lower(),))\n",
    "    result = c.fetchone()\n",
    "    conn.close()\n",
    "    return result[0] if result else None"
   ]
  },
  {
   "cell_type": "code",
   "execution_count": null,
   "id": "6c648c21",
   "metadata": {},
   "outputs": [],
   "source": [
    "get_city_price(\"Rome\")"
   ]
  },
  {
   "cell_type": "code",
   "execution_count": null,
   "id": "2632f8bc",
   "metadata": {},
   "outputs": [],
   "source": [
    "from autogen_agentchat.agents import AssistantAgent\n",
    "smart_agent = AssistantAgent(\n",
    "    name=\"smart_airline_agent\",\n",
    "    model_client=model_client,\n",
    "    system_message=\"You are a helpful assistant for an airline. You give short, humorous answers. You can also look up ticket prices in a database.\",\n",
    "    model_client_stream=True,\n",
    "    tools=[get_city_price],\n",
    "    reflect_on_tool_use=True)\n",
    "\n",
    "# `reflect_on_tool_use`: \n",
    "# 1. When this feature is activated, the agent doesn't just execute tools blindly - it engages in a reflective process about its tool usage decisions and outcomes.\n",
    "# 2. When an agent with reflection enabled encounters a situation where it needs to use a tool, it first considers whether the tool is appropriate for the task, evaluates the expected outcome, and then after executing the tool, it reflects on whether the result was satisfactory and aligns with the original goal. This creates a feedback loop that improves the agent's decision-making process.\n",
    "# 3. In your airline assistant example, with reflect_on_tool_use=True, the agent will not only call the get_city_price() function when asked about ticket prices, but it will also evaluate whether the price information it retrieved actually answers the user's question appropriately. If the tool returns None (city not found), the agent will reflect on this result and provide a more thoughtful response, perhaps suggesting alternative cities or explaining why the price isn't available."
   ]
  },
  {
   "cell_type": "code",
   "execution_count": null,
   "id": "bc540d2c",
   "metadata": {},
   "outputs": [],
   "source": [
    "response = await smart_agent.on_messages([message], cancellation_token=CancellationToken())\n",
    "for inner_message in response.inner_messages:\n",
    "    print(inner_message.content)\n",
    "response.chat_message.content"
   ]
  },
  {
   "cell_type": "markdown",
   "id": "13c93caf",
   "metadata": {},
   "source": [
    "- The call to the `on_messages` method returns a `Response` with the list of messages in the `inner_messages` attribute, which stores the agent’s \"thought process\" as well as the final response."
   ]
  },
  {
   "cell_type": "markdown",
   "id": "0ec7bb48",
   "metadata": {},
   "source": [
    "### Streaming Messages"
   ]
  },
  {
   "cell_type": "markdown",
   "id": "6233d199",
   "metadata": {},
   "source": [
    "We can also stream each message as it is generated by the agent by using the `run_stream()`method, and use Console to print the messages as they appear to the console."
   ]
  },
  {
   "cell_type": "code",
   "execution_count": null,
   "id": "9f1de075",
   "metadata": {},
   "outputs": [],
   "source": [
    "from autogen_core import Console\n",
    "\n",
    "async def assistant_run_stream() -> None:\n",
    "    # Option 1: read each message from the stream (as shown in the previous example).\n",
    "    # async for message in agent.run_stream(task=\"Find information on AutoGen\"):\n",
    "    #     print(message)\n",
    "\n",
    "    # Option 2: use Console to print all messages as they appear.\n",
    "    await Console(\n",
    "        agent.run_stream(task=\"Find information on AutoGen\"),\n",
    "        output_stats=True,  # Enable stats printing.\n",
    "    )\n",
    "\n",
    "\n",
    "# Use asyncio.run(assistant_run_stream()) when running in a script.\n",
    "await assistant_run_stream()"
   ]
  },
  {
   "cell_type": "markdown",
   "id": "c15ddb95",
   "metadata": {},
   "source": [
    "The `run_stream()` method returns an asynchronous generator that yields each message generated by the agent, followed by a `TaskResult` as the last item."
   ]
  },
  {
   "cell_type": "markdown",
   "id": "3efb1d1e",
   "metadata": {},
   "source": [
    "### Using Tools and Workbench"
   ]
  },
  {
   "cell_type": "markdown",
   "id": "1cc2ac90",
   "metadata": {},
   "source": [
    "- A single custom tool can be a Python function or a subclass of the `BaseTool`.\n",
    "- `Workbench` is a collection of tools that share state and resources.\n",
    "- By default, when `AssistantAgent` executes a tool, it will return the tool's output as a string in `ToolCallSummaryMessage` in its response. \n",
    "- If your tool does not return a well-formed string in natural language, you can add a reflection step to have the model summarize the tool's output, by setting the `reflect_on_tool_use=True` parameter in the `AssistantAgent` constructor."
   ]
  },
  {
   "cell_type": "markdown",
   "id": "9a0621d0",
   "metadata": {},
   "source": [
    "#### Built-in Tools and Workbench"
   ]
  },
  {
   "cell_type": "markdown",
   "id": "c8884e20",
   "metadata": {},
   "source": [
    "- All the available tools under the `autogen_ext.tools` namespace.\n",
    "- For example, you can find the following tools:\n",
    "  - `graphrag`: Tools for using GraphRAG index.\n",
    "  - `http`: Tools for making HTTP requests.\n",
    "  - `langchain`: Adaptor for using LangChain tools.\n",
    "  - `mcp`: Tools and workbench for using Model Chat Protocol (MCP) servers."
   ]
  },
  {
   "cell_type": "markdown",
   "id": "8cf42174",
   "metadata": {},
   "source": [
    "#### Function Tool"
   ]
  },
  {
   "cell_type": "markdown",
   "id": "5c159c23",
   "metadata": {},
   "source": [
    "The `AssistantAgent` automatically converts a Python function into a `FunctionTool` which can be used as a tool by the agent and automatically generates the tool schema from the function signature and docstring."
   ]
  },
  {
   "cell_type": "code",
   "execution_count": null,
   "id": "c7650cc3",
   "metadata": {},
   "outputs": [],
   "source": [
    "from autogen_core.tools import FunctionTool\n",
    "\n",
    "# Define a tool using a Python function.\n",
    "async def web_search_func(query: str) -> str:\n",
    "    \"\"\"Find information on the web\"\"\"\n",
    "    return \"AutoGen is a programming framework for building multi-agent applications.\"\n",
    "\n",
    "\n",
    "# This step is automatically performed inside the AssistantAgent if the tool is a Python function.\n",
    "web_search_function_tool = FunctionTool(web_search_func, description=\"Find information on the web\")\n",
    "# The schema is provided to the model during AssistantAgent's on_messages call.\n",
    "web_search_function_tool.schema\n"
   ]
  },
  {
   "cell_type": "code",
   "execution_count": null,
   "id": "8a4bc5f8",
   "metadata": {},
   "outputs": [],
   "source": [
    "{'name': 'web_search_func',\n",
    " 'description': 'Find information on the web',\n",
    " 'parameters': {'type': 'object',\n",
    "                'properties': {'query': {'description': 'query',\n",
    "                                         'title': 'Query',\n",
    "                                         'type': 'string'}},\n",
    "                'required': ['query'],\n",
    "                'additionalProperties': False},\n",
    " 'strict': False}"
   ]
  },
  {
   "cell_type": "markdown",
   "id": "8ae6b6be",
   "metadata": {},
   "source": [
    "#### Using LangChain tools from AutoGen"
   ]
  },
  {
   "cell_type": "code",
   "execution_count": null,
   "id": "6208cd92",
   "metadata": {},
   "outputs": [],
   "source": [
    "# AutoGen's wrapper:\n",
    "\n",
    "from autogen_ext.tools.langchain import LangChainToolAdapter"
   ]
  },
  {
   "cell_type": "code",
   "execution_count": null,
   "id": "13e2a985",
   "metadata": {},
   "outputs": [],
   "source": [
    "# LangChain tools:\n",
    "\n",
    "from langchain_community.utilities import GoogleSerperAPIWrapper\n",
    "from langchain_community.agent_toolkits import FileManagementToolkit\n",
    "from langchain.agents import Tool"
   ]
  },
  {
   "cell_type": "code",
   "execution_count": null,
   "id": "b7f4d95b",
   "metadata": {},
   "outputs": [],
   "source": [
    "load_dotenv(override=True)"
   ]
  },
  {
   "cell_type": "code",
   "execution_count": null,
   "id": "1f0d7713",
   "metadata": {},
   "outputs": [],
   "source": [
    "prompt = \"\"\"Your task is to find a one-way non-stop flight from JFK to LHR in June 2025.\n",
    "First search online for promising deals.\n",
    "Next, write all the deals to a file called flights.md with full details.\n",
    "Finally, select the one which is cheapest and reply with a short summary.\n",
    "Reply with the selected flight only, and only after you have written the details to the file.\"\"\""
   ]
  },
  {
   "cell_type": "code",
   "execution_count": null,
   "id": "ba308501",
   "metadata": {},
   "outputs": [],
   "source": [
    "serper = GoogleSerperAPIWrapper()\n",
    "internet_search_tool = Tool(\n",
    "    name=\"internet_search\",\n",
    "    func=serper.run,\n",
    "    description=\"Search the internet for information about flights.\"\n",
    ")\n",
    "autogen_internet_search_tool_langchain_wrapper = LangChainToolAdapter(langchain_tool=internet_search_tool)\n",
    "autogen_tools = [autogen_internet_search_tool_langchain_wrapper]\n",
    "\n",
    "langchain_file_management_tool = FileManagementToolkit(root_dir=\"sandbox\").get_tools()\n",
    "for tool in langchain_file_management_tool:\n",
    "    autogen_tool = LangChainToolAdapter(langchain_tool=tool)\n",
    "    autogen_tools.append(autogen_tool)"
   ]
  },
  {
   "cell_type": "code",
   "execution_count": null,
   "id": "0507eccf",
   "metadata": {},
   "outputs": [],
   "source": [
    "for tool in autogen_tools:\n",
    "    print(tool.name, tool.description)"
   ]
  },
  {
   "cell_type": "code",
   "execution_count": null,
   "id": "ae5f19f7",
   "metadata": {},
   "outputs": [],
   "source": [
    "model_client = OpenAIChatCompletionClient(model=\"gpt-4o-mini\")\n",
    "assistant_agent = AssistantAgent(\n",
    "    name=\"flight_agent\",\n",
    "    model_client=model_client,\n",
    "    tools=autogen_tools,\n",
    "    reflect_on_tool_use=True)\n",
    "\n",
    "message = TextMessage(content=prompt, source=\"user\")\n",
    "response = await assistant_agent.on_messages([message], cancellation_token=CancellationToken())\n",
    "for inner_message in response.inner_messages:\n",
    "    print(inner_message.content)\n",
    "display(Markdown(response.chat_message.content))"
   ]
  },
  {
   "cell_type": "code",
   "execution_count": null,
   "id": "3a3dfa81",
   "metadata": {},
   "outputs": [],
   "source": [
    "# Now we need to call the agent again to write the file\n",
    "message = TextMessage(content=\"OK proceed\", source=\"user\")\n",
    "\n",
    "result = await assistant_agent.on_messages([message], cancellation_token=CancellationToken())\n",
    "for message in result.inner_messages:\n",
    "    print(message.content)\n",
    "display(Markdown(result.chat_message.content))"
   ]
  },
  {
   "cell_type": "markdown",
   "id": "a49fb982",
   "metadata": {},
   "source": [
    "#### Model Context Protocol (MCP) Workbench"
   ]
  },
  {
   "cell_type": "markdown",
   "id": "33a9cd89",
   "metadata": {},
   "source": [
    "The `AssistantAgent` can also use tools that are served from a Model Context Protocol (MCP) server using `McpWorkbench()`"
   ]
  },
  {
   "cell_type": "code",
   "execution_count": null,
   "id": "971e91a7",
   "metadata": {},
   "outputs": [],
   "source": [
    "from autogen_agentchat.agents import AssistantAgent\n",
    "from autogen_agentchat.messages import TextMessage\n",
    "from autogen_ext.models.openai import OpenAIChatCompletionClient\n",
    "from autogen_ext.tools.mcp import McpWorkbench, StdioServerParams\n",
    "\n",
    "# Get the fetch tool from mcp-server-fetch.\n",
    "fetch_mcp_server = StdioServerParams(command=\"uvx\", args=[\"mcp-server-fetch\"])\n",
    "\n",
    "# Create an MCP workbench which provides a session to the mcp server.\n",
    "async with McpWorkbench(fetch_mcp_server) as workbench:  # type: ignore\n",
    "    # Create an agent that can use the fetch tool.\n",
    "    model_client = OpenAIChatCompletionClient(model=\"gpt-4.1-nano\")\n",
    "    fetch_agent = AssistantAgent(\n",
    "        name=\"fetcher\", model_client=model_client, workbench=workbench, reflect_on_tool_use=True\n",
    "    )\n",
    "\n",
    "    # Let the agent fetch the content of a URL and summarize it.\n",
    "    result = await fetch_agent.run(task=\"Summarize the content of https://en.wikipedia.org/wiki/Seattle\")\n",
    "    assert isinstance(result.messages[-1], TextMessage)\n",
    "    print(result.messages[-1].content)\n",
    "\n",
    "    # Close the connection to the model client.\n",
    "    await model_client.close()\n"
   ]
  },
  {
   "cell_type": "markdown",
   "id": "979999a8",
   "metadata": {},
   "source": [
    "#### Agent as a Tool"
   ]
  },
  {
   "cell_type": "markdown",
   "id": "334d0e88",
   "metadata": {},
   "source": [
    "- Any `BaseChatAgent` can be used as a tool by wrapping it in a `AgentTool`. \n",
    "- This allows for a dynamic, model-driven multi-agent workflow where the agent can call other agents as tools to solve tasks."
   ]
  },
  {
   "cell_type": "markdown",
   "id": "fd9f9bfa",
   "metadata": {},
   "source": [
    "#### Parallel Tool Calls"
   ]
  },
  {
   "cell_type": "markdown",
   "id": "a92729d3",
   "metadata": {},
   "source": [
    "- Some models support parallel tool calls, which can be useful for tasks that require multiple tools to be called simultaneously. \n",
    "- By default, if the model client produces multiple tool calls, `AssistantAgent` will call the tools in parallel.\n",
    "- You may want to disable parallel tool calls when the tools have side effects that may interfere with each other, or, when agent behavior needs to be consistent across different models."
   ]
  },
  {
   "cell_type": "code",
   "execution_count": null,
   "id": "2086329c",
   "metadata": {},
   "outputs": [],
   "source": [
    "model_client_no_parallel_tool_call = OpenAIChatCompletionClient(\n",
    "    model=\"gpt-4o\",\n",
    "    parallel_tool_calls=False,  # type: ignore\n",
    ")\n",
    "agent_no_parallel_tool_call = AssistantAgent(\n",
    "    name=\"assistant\",\n",
    "    model_client=model_client_no_parallel_tool_call,\n",
    "    tools=[web_search_func],\n",
    "    system_message=\"Use tools to solve tasks.\",\n",
    ")\n"
   ]
  },
  {
   "cell_type": "markdown",
   "id": "59578165",
   "metadata": {},
   "source": [
    "#### Tool Iterations"
   ]
  },
  {
   "cell_type": "markdown",
   "id": "4d8e3acc",
   "metadata": {},
   "source": [
    "- One model call followed by one tool call or parallel tool calls is a single tool iteration. By default, the AssistantAgent will execute at most one iteration.\n",
    "- The agent can be configured to execute multiple iterations until the model stops generating tool calls or the maximum number of iterations is reached."
   ]
  },
  {
   "cell_type": "code",
   "execution_count": null,
   "id": "f5d70ac3",
   "metadata": {},
   "outputs": [],
   "source": [
    "agent_loop = AssistantAgent(\n",
    "    name=\"assistant_loop\",\n",
    "    model_client=model_client_no_parallel_tool_call,\n",
    "    tools=[web_search_func],\n",
    "    system_message=\"Use tools to solve tasks.\",\n",
    "    max_tool_iterations=10,  # At most 10 iterations of tool calls before stopping the loop.\n",
    ")\n"
   ]
  },
  {
   "cell_type": "markdown",
   "id": "ad88f403",
   "metadata": {},
   "source": [
    "### Structured Outputs"
   ]
  },
  {
   "cell_type": "markdown",
   "id": "30cff8fd",
   "metadata": {},
   "source": [
    "- Once you specify the base model class in the `output_content_type` parameter of the `AssistantAgent` constructor, the agent will respond with a `StructuredMessage` whose content’s type is the type of the base model class."
   ]
  },
  {
   "cell_type": "code",
   "execution_count": null,
   "id": "9048fa24",
   "metadata": {},
   "outputs": [],
   "source": [
    "class ImageDescription(BaseModel):\n",
    "    scene: str = Field(description=\"Briefly, the overall scene of the image\")\n",
    "    message: str = Field(description=\"The point that the image is trying to convey\")\n",
    "    style: str = Field(description=\"The artistic style of the image\")\n",
    "    orientation: Literal[\"portrait\", \"landscape\", \"square\"] = Field(description=\"The orientation of the image\")"
   ]
  },
  {
   "cell_type": "code",
   "execution_count": null,
   "id": "b2340fe5",
   "metadata": {},
   "outputs": [],
   "source": [
    "message = MultiModalMessage(\n",
    "    content=[\"Describe the content of this image in detail\", img],\n",
    "    source=\"user\")\n",
    "\n",
    "model_client = OpenAIChatCompletionClient(model=\"gpt-4o-mini\")\n",
    "image_description_agent = AssistantAgent(\n",
    "    name=\"image_description_agent\",\n",
    "    model_client=model_client,\n",
    "    system_message=\"You are a helpful assistant for describing images.\",\n",
    "    output_content_type=ImageDescription,\n",
    "    model_client_stream=True)\n",
    "\n",
    "response = await image_description_agent.on_messages([message], cancellation_token=CancellationToken())\n",
    "reply = response.chat_message.content\n",
    "reply"
   ]
  },
  {
   "cell_type": "code",
   "execution_count": null,
   "id": "a9b7a6b2",
   "metadata": {},
   "outputs": [],
   "source": [
    "import textwrap\n",
    "print(f\"Scene:\\n{textwrap.fill(reply.scene)}\\n\\n\")\n",
    "print(f\"Message:\\n{textwrap.fill(reply.message)}\\n\\n\")\n",
    "print(f\"Style:\\n{textwrap.fill(reply.style)}\\n\\n\")\n",
    "print(f\"Orientation:\\n{textwrap.fill(reply.orientation)}\\n\\n\")"
   ]
  },
  {
   "cell_type": "markdown",
   "id": "c0abb073",
   "metadata": {},
   "source": [
    "Structured output is also useful for incorporating Chain-of-Thought reasoning in the agent’s responses."
   ]
  },
  {
   "cell_type": "code",
   "execution_count": null,
   "id": "cca01060",
   "metadata": {},
   "outputs": [],
   "source": [
    "from typing import Literal\n",
    "\n",
    "from pydantic import BaseModel\n",
    "from autogen_agentchat.messages import StructuredMessage\n",
    "\n",
    "\n",
    "# The response format for the agent as a Pydantic base model.\n",
    "class AgentResponse(BaseModel):\n",
    "    thoughts: str\n",
    "    response: Literal[\"happy\", \"sad\", \"neutral\"]\n",
    "\n",
    "\n",
    "# Create an agent that uses the OpenAI GPT-4o model.\n",
    "model_client = OpenAIChatCompletionClient(model=\"gpt-4o\")\n",
    "agent = AssistantAgent(\n",
    "    \"assistant\",\n",
    "    model_client=model_client,\n",
    "    system_message=\"Categorize the input as happy, sad, or neutral following the JSON format.\",\n",
    "    # Define the output content type of the agent.\n",
    "    output_content_type=AgentResponse,\n",
    ")\n",
    "\n",
    "result = await Console(agent.run_stream(task=\"I am happy.\"))\n",
    "\n",
    "# Check the last message in the result, validate its type, and print the thoughts and response.\n",
    "assert isinstance(result.messages[-1], StructuredMessage)\n",
    "assert isinstance(result.messages[-1].content, AgentResponse)\n",
    "print(\"Thought: \", result.messages[-1].content.thoughts)\n",
    "print(\"Response: \", result.messages[-1].content.response)\n",
    "await model_client.close()\n"
   ]
  },
  {
   "cell_type": "markdown",
   "id": "909ab245",
   "metadata": {},
   "source": [
    "### Streaming Tokens"
   ]
  },
  {
   "cell_type": "markdown",
   "id": "3cf5babc",
   "metadata": {},
   "source": [
    "- You can stream the tokens generated by the model client by setting `model_client_stream=True`\n",
    "- The final response, the concatenation of all the chunks, is yielded right after the last chunk."
   ]
  },
  {
   "cell_type": "code",
   "execution_count": null,
   "id": "b911d9d7",
   "metadata": {},
   "outputs": [],
   "source": [
    "model_client = OpenAIChatCompletionClient(model=\"gpt-4o\")\n",
    "\n",
    "streaming_assistant = AssistantAgent(\n",
    "    name=\"assistant\",\n",
    "    model_client=model_client,\n",
    "    system_message=\"You are a helpful assistant.\",\n",
    "    model_client_stream=True,  # Enable streaming tokens.\n",
    ")\n",
    "\n",
    "# Use an async function and asyncio.run() in a script.\n",
    "async for message in streaming_assistant.run_stream(task=\"Name two cities in South America\"):  # type: ignore\n",
    "    print(message)\n"
   ]
  },
  {
   "cell_type": "markdown",
   "id": "da4e9c8a",
   "metadata": {},
   "source": [
    "### Using Model Context"
   ]
  },
  {
   "cell_type": "markdown",
   "id": "00091ac5",
   "metadata": {},
   "source": [
    "- `AssistantAgent` has a `model_context` parameter that can be used to pass in a `ChatCompletionContext` object. \n",
    "- This allows the agent to use different model contexts, such as `BufferedChatCompletionContext` to limit the context sent to the model.\n",
    "- By default, `AssistantAgent` uses the `UnboundedChatCompletionContext` which sends the full conversation history to the model. \n",
    "- To limit the context to the last `n` messages, you can use the `BufferedChatCompletionContext`. "
   ]
  },
  {
   "cell_type": "code",
   "execution_count": null,
   "id": "c07a6e94",
   "metadata": {},
   "outputs": [],
   "source": [
    "from autogen_core.model_context import BufferedChatCompletionContext\n",
    "\n",
    "# Create an agent that uses only the last 5 messages in the context to generate responses.\n",
    "agent = AssistantAgent(\n",
    "    name=\"assistant\",\n",
    "    model_client=model_client,\n",
    "    tools=[web_search_func],\n",
    "    system_message=\"Use tools to solve tasks.\",\n",
    "    model_context=BufferedChatCompletionContext(buffer_size=5),  # Only use the last 5 messages in the context.\n",
    ")\n"
   ]
  },
  {
   "cell_type": "markdown",
   "id": "2671bf07",
   "metadata": {},
   "source": [
    "### Other Preset Agents"
   ]
  },
  {
   "cell_type": "markdown",
   "id": "a7f61743",
   "metadata": {},
   "source": [
    "- `UserProxyAgent`: An agent that takes user input returns it as responses.\n",
    "- `CodeExecutorAgent`: An agent that can execute code.\n",
    "- `OpenAIAssistantAgent`: An agent that is backed by an OpenAI Assistant, with ability to use custom tools.\n",
    "- `MultimodalWebSurfer`: A multi-modal agent that can search the web and visit web pages for information.\n",
    "- `FileSurfer`: An agent that can search and browse local files for information.\n",
    "- `VideoSurfer`: An agent that can watch videos for information."
   ]
  },
  {
   "cell_type": "markdown",
   "id": "5831076b",
   "metadata": {},
   "source": [
    "## Teams\n",
    "- A team is a group of agents that work together to achieve a common goal.\n",
    "- AgentChat supports several team presets:\n",
    "  - `RoundRobinGroupChat`: A team that runs a group chat with participants taking turns in a round-robin fashion (covered on this page).\n",
    "  - `SelectorGroupChat`: A team that selects the next speaker using a ChatCompletion model after each message.\n",
    "  - `MagenticOneGroupChat`: A generalist multi-agent system for solving open-ended web and file-based tasks across a variety of domains.\n",
    "  - `Swarm`: A team that uses HandoffMessage to signal transitions between agents."
   ]
  },
  {
   "cell_type": "markdown",
   "id": "985fbefe",
   "metadata": {},
   "source": [
    "### Creating a Team\n",
    "- Each agent, during its turn, broadcasts its response to all other agents, ensuring that the entire team maintains a consistent context.\n",
    "- We will begin by creating a team with two `AssistantAgent` and a `TextMentionTermination` condition that stops the team when a specific word is detected in the agent’s response."
   ]
  },
  {
   "cell_type": "code",
   "execution_count": null,
   "id": "b14073c3",
   "metadata": {},
   "outputs": [],
   "source": [
    "from autogen_agentchat.agents import AssistantAgent\n",
    "from autogen_agentchat.conditions import  TextMentionTermination\n",
    "from autogen_agentchat.teams import RoundRobinGroupChat\n",
    "\n",
    "from autogen_ext.tools.langchain import LangChainToolAdapter\n",
    "from langchain_community.utilities import GoogleSerperAPIWrapper\n",
    "from langchain.agents import Tool\n",
    "\n",
    "serper = GoogleSerperAPIWrapper()\n",
    "langchain_serper =Tool(name=\"internet_search\", func=serper.run, description=\"useful for when you need to search the internet\")\n",
    "autogen_serper = LangChainToolAdapter(langchain_serper)\n",
    "\n",
    "model_client = OpenAIChatCompletionClient(model=\"gpt-4o-mini\")\n",
    "\n",
    "prompt = \"\"\"Find a one-way non-stop flight from JFK to LHR in June 2025.\"\"\"\n",
    "\n",
    "primary_agent = AssistantAgent(\n",
    "    \"primary\",\n",
    "    model_client=model_client,\n",
    "    tools=[autogen_serper],\n",
    "    system_message=\"You are a helpful AI research assistant who looks for promising deals on flights. Incorporate any feedback you receive.\",\n",
    ")\n",
    "\n",
    "evaluation_agent = AssistantAgent(\n",
    "    \"evaluator\",\n",
    "    model_client=model_client,\n",
    "    system_message=\"Provide constructive feedback. Respond with 'APPROVE' when your feedback is addressed.\",\n",
    ")\n",
    "\n",
    "text_termination = TextMentionTermination(\"APPROVE\")\n",
    "\n",
    "team_agent = RoundRobinGroupChat(\n",
    "    [primary_agent, evaluation_agent], \n",
    "     termination_condition=text_termination, \n",
    "     max_turns=5\n",
    ")"
   ]
  },
  {
   "cell_type": "markdown",
   "id": "21b96c0b",
   "metadata": {},
   "source": [
    "### Running a Team"
   ]
  },
  {
   "cell_type": "markdown",
   "id": "df14b74d",
   "metadata": {},
   "source": [
    "- The team runs the agents until the termination condition was met. \n",
    "- In this case, the team ran agents following a round-robin order until the the termination condition was met when the word “APPROVE” was detected in the agent’s response."
   ]
  },
  {
   "cell_type": "code",
   "execution_count": null,
   "id": "0c531558",
   "metadata": {},
   "outputs": [],
   "source": [
    "message = TextMessage(content=prompt, source=\"user\")\n",
    "result = await team_agent.run(task=[message], cancellation_token=CancellationToken())\n",
    "for message in result.messages:\n",
    "    print(f\"Source: {message.source}, Content: {message.content}\")"
   ]
  },
  {
   "cell_type": "markdown",
   "id": "1396d6a2",
   "metadata": {},
   "source": [
    "### Observing a Team"
   ]
  },
  {
   "cell_type": "markdown",
   "id": "77a9203f",
   "metadata": {},
   "source": [
    "- You can stream the team’s messages while it is running by calling the `run_stream()` method. \n",
    "- This method returns a generator that yields messages produced by the agents in the team as they are generated, with the final item being the `TaskResult` object."
   ]
  },
  {
   "cell_type": "code",
   "execution_count": null,
   "id": "8f79994e",
   "metadata": {},
   "outputs": [],
   "source": [
    "# When running inside a script, use a async main function and call it from `asyncio.run(...)`.\n",
    "await team.reset()  # Reset the team for a new task.\n",
    "async for message in team.run_stream(task=\"Write a short poem about the fall season.\"):  # type: ignore\n",
    "    if isinstance(message, TaskResult):\n",
    "        print(\"Stop Reason:\", message.stop_reason)\n",
    "    else:\n",
    "        print(message)\n"
   ]
  },
  {
   "cell_type": "markdown",
   "id": "6d96e3cc",
   "metadata": {},
   "source": [
    "### Resetting a Team"
   ]
  },
  {
   "cell_type": "markdown",
   "id": "8221c197",
   "metadata": {},
   "source": [
    "- You can reset the team by calling the `reset()` method. \n",
    "- This method will clear the team’s state, including all agents. It will call the each agent’s `on_reset()` method to clear the agent’s state.\n",
    "- It is usually a good idea to reset the team if the next task is not related to the previous task. "
   ]
  },
  {
   "cell_type": "code",
   "execution_count": null,
   "id": "dccdf50a",
   "metadata": {},
   "outputs": [],
   "source": [
    "await team.reset()  # Reset the team for the next run."
   ]
  },
  {
   "cell_type": "markdown",
   "id": "60f03c3d",
   "metadata": {},
   "source": [
    "### Stopping a Team"
   ]
  },
  {
   "cell_type": "markdown",
   "id": "aa5f13dd",
   "metadata": {},
   "source": [
    "- Apart from automatic termination conditions such as `TextMentionTermination` that stops the team based on the internal state of the team, you can also stop the team from outside by using the `ExternalTermination`.\n",
    "- Calling `set()` on `ExternalTermination` will stop the team when the current agent’s turn is over.\n",
    "- The team may not stop immediately. This allows the current agent to finish its turn and broadcast the final message to the team before the team stops, keeping the team’s state consistent."
   ]
  },
  {
   "cell_type": "code",
   "execution_count": null,
   "id": "b6925429",
   "metadata": {},
   "outputs": [],
   "source": [
    "# Create a new team with an external termination condition.\n",
    "from autogen_agentchat.conditions import ExternalTermination\n",
    "\n",
    "external_termination = ExternalTermination()\n",
    "team = RoundRobinGroupChat(\n",
    "    [primary_agent, critic_agent],\n",
    "    termination_condition=external_termination | text_termination,  # Use the bitwise OR operator to combine conditions.\n",
    ")\n",
    "\n",
    "# Run the team in a background task.\n",
    "run = asyncio.create_task(Console(team.run_stream(task=\"Write a short poem about the fall season.\")))\n",
    "\n",
    "# Wait for some time.\n",
    "await asyncio.sleep(0.1)\n",
    "\n",
    "# Stop the team.\n",
    "external_termination.set()\n",
    "\n",
    "# Wait for the team to finish.\n",
    "await run\n"
   ]
  },
  {
   "cell_type": "markdown",
   "id": "b817f9ac",
   "metadata": {},
   "source": [
    "### Resuming a Team"
   ]
  },
  {
   "cell_type": "markdown",
   "id": "8f80f729",
   "metadata": {},
   "source": [
    "- Teams are stateful and maintains the conversation history and context after each run, unless you reset the team.\n",
    "- You can resume a team to continue from where it left off by calling the `run()` or `run_stream()` method again without a new task. \n",
    "- `RoundRobinGroupChat` will continue from the next agent in the round-robin order."
   ]
  },
  {
   "cell_type": "code",
   "execution_count": null,
   "id": "13c0f324",
   "metadata": {},
   "outputs": [],
   "source": [
    "await Console(team.run_stream())  # Resume the team to continue the last task."
   ]
  },
  {
   "cell_type": "markdown",
   "id": "6b90e701",
   "metadata": {},
   "source": [
    "### Aborting a Team"
   ]
  },
  {
   "cell_type": "markdown",
   "id": "37ac7928",
   "metadata": {},
   "source": [
    "- You can abort a call to `run()` or `run_stream()` during execution by setting a `CancellationToken` passed to the `cancellation_token` parameter.\n",
    "- Different from stopping a team, aborting a team will immediately stop the team and raise a `CancelledError` exception."
   ]
  },
  {
   "cell_type": "markdown",
   "id": "661b2c62",
   "metadata": {},
   "source": [
    "## Human-in-the-Loop"
   ]
  },
  {
   "cell_type": "markdown",
   "id": "b5c57851",
   "metadata": {},
   "source": [
    "There are two main ways to interact with the team from your application:\n",
    "- During a team’s run – execution of `run()` or `run_stream()`, provide feedback through a `UserProxyAgent`.\n",
    "- Once the run terminates, provide feedback through input to the next call to `run()` or `run_stream()`."
   ]
  },
  {
   "cell_type": "markdown",
   "id": "c0113499",
   "metadata": {},
   "source": [
    "### Providing Feedback During a Run"
   ]
  },
  {
   "cell_type": "markdown",
   "id": "d84b8d42",
   "metadata": {},
   "source": [
    "- The `UserProxyAgent` is a special built-in agent that acts as a proxy for a user to provide feedback to the team.\n",
    "- Due to the blocking nature of this approach, it is recommended to use it only for short interactions that require immediate feedback from the user, such as asking for approval or disapproval with a button click, or an alert requiring immediate attention otherwise failing the task."
   ]
  },
  {
   "cell_type": "code",
   "execution_count": null,
   "id": "0568adc5",
   "metadata": {},
   "outputs": [],
   "source": [
    "from autogen_agentchat.agents import AssistantAgent, UserProxyAgent\n",
    "from autogen_agentchat.conditions import TextMentionTermination\n",
    "from autogen_agentchat.teams import RoundRobinGroupChat\n",
    "from autogen_agentchat.ui import Console\n",
    "from autogen_ext.models.openai import OpenAIChatCompletionClient\n",
    "\n",
    "# Create the agents.\n",
    "model_client = OpenAIChatCompletionClient(model=\"gpt-4o-mini\")\n",
    "assistant = AssistantAgent(\"assistant\", model_client=model_client)\n",
    "user_proxy = UserProxyAgent(\"user_proxy\", input_func=input)  # Use input() to get user input from console.\n",
    "\n",
    "# Create the termination condition which will end the conversation when the user says \"APPROVE\".\n",
    "termination = TextMentionTermination(\"APPROVE\")\n",
    "\n",
    "# Create the team.\n",
    "team = RoundRobinGroupChat([assistant, user_proxy], termination_condition=termination)\n",
    "\n",
    "# Run the conversation and stream to the console.\n",
    "stream = team.run_stream(task=\"Write a 4-line poem about the ocean.\")\n",
    "# Use asyncio.run(...) when running in a script.\n",
    "await Console(stream)\n",
    "await model_client.close()\n"
   ]
  },
  {
   "cell_type": "markdown",
   "id": "223bafe3",
   "metadata": {},
   "source": [
    "- You can provide your own input function to the UserProxyAgent to customize the feedback process.\n",
    "- For example, when the team is running as a web service, you can use a custom input function to wait for message from a web socket connection."
   ]
  },
  {
   "cell_type": "code",
   "execution_count": null,
   "id": "1c5c7d49",
   "metadata": {},
   "outputs": [],
   "source": [
    "@app.websocket(\"/ws/chat\")\n",
    "async def chat(websocket: WebSocket):\n",
    "    await websocket.accept()\n",
    "\n",
    "    async def _user_input(prompt: str, cancellation_token: CancellationToken | None) -> str:\n",
    "        data = await websocket.receive_json() # Wait for user message from websocket.\n",
    "        message = TextMessage.model_validate(data) # Assume user message is a TextMessage.\n",
    "        return message.content\n",
    "    \n",
    "    # Create user proxy with custom input function\n",
    "    # Run the team with the user proxy\n",
    "    # ...\n"
   ]
  },
  {
   "cell_type": "markdown",
   "id": "50307772",
   "metadata": {},
   "source": [
    "### Providing Feedback to the Next Run"
   ]
  },
  {
   "cell_type": "markdown",
   "id": "1dfa8146",
   "metadata": {},
   "source": [
    "- The team runs until termination, the application or user provides feedback, and the team runs again with the feedback.\n",
    "- Once a team finishes a run, the application saves the state of the team, puts it in a persistent storage, and resumes the team when the feedback arrives.\n",
    "- There are two ways to implement this approach:\n",
    "  - Set the maximum number of turns\n",
    "  - Use termination conditions such as `TextMentionTermination` and `HandoffTermination`"
   ]
  },
  {
   "cell_type": "markdown",
   "id": "46490fbb",
   "metadata": {},
   "source": [
    "#### Using Max Turns"
   ]
  },
  {
   "cell_type": "markdown",
   "id": "ec0cd53e",
   "metadata": {},
   "source": [
    "-  You can configure the team to stop after the first agent responds by setting `max_turns` to 1 or when termination conditions are met.\n",
    "-  This is particularly useful in scenarios where continuous user engagement is required, such as in a chatbot.\n",
    "-  Once the team stops, the turn count will be reset.\n",
    "-  However, the team’s internal state will be preserved."
   ]
  },
  {
   "cell_type": "code",
   "execution_count": null,
   "id": "c10e8969",
   "metadata": {},
   "outputs": [],
   "source": [
    "from autogen_agentchat.agents import AssistantAgent\n",
    "from autogen_agentchat.teams import RoundRobinGroupChat\n",
    "from autogen_agentchat.ui import Console\n",
    "from autogen_ext.models.openai import OpenAIChatCompletionClient\n",
    "\n",
    "# Create the agents.\n",
    "model_client = OpenAIChatCompletionClient(model=\"gpt-4o-mini\")\n",
    "assistant = AssistantAgent(\"assistant\", model_client=model_client)\n",
    "\n",
    "# Create the team setting a maximum number of turns to 1.\n",
    "team = RoundRobinGroupChat([assistant], max_turns=1)\n",
    "\n",
    "task = \"Write a 4-line poem about the ocean.\"\n",
    "while True:\n",
    "    # Run the conversation and stream to the console.\n",
    "    stream = team.run_stream(task=task)\n",
    "    # Use asyncio.run(...) when running in a script.\n",
    "    await Console(stream)\n",
    "    # Get the user response.\n",
    "    task = input(\"Enter your feedback (type 'exit' to leave): \")\n",
    "    if task.lower().strip() == \"exit\":\n",
    "        break\n",
    "await model_client.close()\n"
   ]
  },
  {
   "cell_type": "markdown",
   "id": "de7f2809",
   "metadata": {},
   "source": [
    "#### Using Termination Conditions"
   ]
  },
  {
   "cell_type": "code",
   "execution_count": null,
   "id": "57f58864",
   "metadata": {},
   "outputs": [],
   "source": [
    "from autogen_agentchat.agents import AssistantAgent\n",
    "from autogen_agentchat.base import Handoff\n",
    "from autogen_agentchat.conditions import HandoffTermination, TextMentionTermination\n",
    "from autogen_agentchat.teams import RoundRobinGroupChat\n",
    "from autogen_agentchat.ui import Console\n",
    "from autogen_ext.models.openai import OpenAIChatCompletionClient\n",
    "\n",
    "# Create an OpenAI model client.\n",
    "model_client = OpenAIChatCompletionClient(\n",
    "    model=\"gpt-4o\",\n",
    "    # api_key=\"sk-...\", # Optional if you have an OPENAI_API_KEY env variable set.\n",
    ")\n",
    "\n",
    "# Create a lazy assistant agent that always hands off to the user.\n",
    "lazy_agent = AssistantAgent(\n",
    "    \"lazy_assistant\",\n",
    "    model_client=model_client,\n",
    "    handoffs=[Handoff(target=\"user\", message=\"Transfer to user.\")],\n",
    "    system_message=\"If you cannot complete the task, transfer to user. Otherwise, when finished, respond with 'TERMINATE'.\",\n",
    ")\n",
    "\n",
    "# Define a termination condition that checks for handoff messages.\n",
    "handoff_termination = HandoffTermination(target=\"user\")\n",
    "# Define a termination condition that checks for a specific text mention.\n",
    "text_termination = TextMentionTermination(\"TERMINATE\")\n",
    "\n",
    "# Create a single-agent team with the lazy assistant and both termination conditions.\n",
    "lazy_agent_team = RoundRobinGroupChat([lazy_agent], termination_condition=handoff_termination | text_termination)\n",
    "\n",
    "# Run the team and stream to the console.\n",
    "task = \"What is the weather in New York?\"\n",
    "await Console(lazy_agent_team.run_stream(task=task), output_stats=True)\n"
   ]
  },
  {
   "cell_type": "markdown",
   "id": "dfbc9e0d",
   "metadata": {},
   "source": [
    "## Termination"
   ]
  },
  {
   "cell_type": "markdown",
   "id": "cc858bfd",
   "metadata": {},
   "source": [
    "- `AgentChat` supports several termination condition by providing a base `TerminationCondition` class and several implementations that inherit from it.\n",
    "- They are stateful but reset automatically after each run (`run()` or `run_stream()`) is finished.\n",
    "- They can be combined using the AND (`&`) and OR (`|`) operators."
   ]
  },
  {
   "cell_type": "markdown",
   "id": "613e3479",
   "metadata": {},
   "source": [
    "Built-In Termination Conditions:\n",
    "- `MaxMessageTermination`: Stops after a specified number of messages have been produced, including both agent and task messages.\n",
    "- `TextMentionTermination`: Stops when specific text or string is mentioned in a message (e.g., \"TERMINATE\").\n",
    "- `TokenUsageTermination`: Stops when a certain number of prompt or completion tokens are used. This requires the agents to report token usage in their messages.\n",
    "- `TimeoutTermination`: Stops after a specified duration in seconds.\n",
    "- `HandoffTermination`: Stops when a handoff to a specific target is requested. Handoff messages can be used to build patterns such as Swarm. This is useful when you want to pause the run and allow application or user to provide input when an agent hands off to them.\n",
    "- `SourceMatchTermination`: Stops after a specific agent responds.\n",
    "- `ExternalTermination`: Enables programmatic control of termination from outside the run. This is useful for UI integration (e.g., “Stop” buttons in chat interfaces).\n",
    "- `StopMessageTermination`: Stops when a StopMessage is produced by an agent.\n",
    "- `TextMessageTermination`: Stops when a TextMessage is produced by an agent.\n",
    "- `FunctionCallTermination`: Stops when a ToolCallExecutionEvent containing a FunctionExecutionResult with a matching name is produced by an agent.\n",
    "- `FunctionalTermination`: Stop when a function expression is evaluated to True on the last delta sequence of messages. This is useful for quickly create custom termination conditions that are not covered by the built-in ones."
   ]
  },
  {
   "cell_type": "code",
   "execution_count": null,
   "id": "ccb515c1",
   "metadata": {},
   "outputs": [],
   "source": [
    "from autogen_agentchat.agents import AssistantAgent\n",
    "from autogen_agentchat.conditions import MaxMessageTermination, TextMentionTermination\n",
    "from autogen_agentchat.teams import RoundRobinGroupChat\n",
    "from autogen_agentchat.ui import Console\n",
    "from autogen_ext.models.openai import OpenAIChatCompletionClient\n",
    "\n",
    "model_client = OpenAIChatCompletionClient(\n",
    "    model=\"gpt-4o\",\n",
    "    temperature=1,\n",
    "    # api_key=\"sk-...\", # Optional if you have an OPENAI_API_KEY env variable set.\n",
    ")\n",
    "\n",
    "# Create the primary agent.\n",
    "primary_agent = AssistantAgent(\n",
    "    \"primary\",\n",
    "    model_client=model_client,\n",
    "    system_message=\"You are a helpful AI assistant.\",\n",
    ")\n",
    "\n",
    "# Create the critic agent.\n",
    "critic_agent = AssistantAgent(\n",
    "    \"critic\",\n",
    "    model_client=model_client,\n",
    "    system_message=\"Provide constructive feedback for every message. Respond with 'APPROVE' to when your feedbacks are addressed.\",\n",
    ")\n"
   ]
  },
  {
   "cell_type": "code",
   "execution_count": null,
   "id": "e11a7a72",
   "metadata": {},
   "outputs": [],
   "source": [
    "max_msg_termination = MaxMessageTermination(max_messages=3)\n",
    "round_robin_team = RoundRobinGroupChat([primary_agent, critic_agent], termination_condition=max_msg_termination)\n",
    "\n",
    "# Use asyncio.run(...) if you are running this script as a standalone script.\n",
    "await Console(round_robin_team.run_stream(task=\"Write a unique, Haiku about the weather in Paris\"))\n"
   ]
  },
  {
   "cell_type": "raw",
   "id": "16bcbcf4",
   "metadata": {},
   "source": [
    "---------- user ----------\n",
    "Write a unique, Haiku about the weather in Paris\n",
    "---------- primary ----------\n",
    "Gentle rain whispers,  \n",
    "Cobblestones glisten softly—  \n",
    "Paris dreams in gray.\n",
    "[Prompt tokens: 30, Completion tokens: 19]\n",
    "---------- critic ----------\n",
    "The Haiku captures the essence of a rainy day in Paris beautifully, and the imagery is vivid. However, it's important to ensure the use of the traditional 5-7-5 syllable structure for Haikus. Your current Haiku lines are composed of 4-7-5 syllables, which slightly deviates from the form. Consider revising the first line to fit the structure.\n",
    "\n",
    "For example:\n",
    "Soft rain whispers down,  \n",
    "Cobblestones glisten softly —  \n",
    "Paris dreams in gray.\n",
    "\n",
    "This revision maintains the essence of your original lines while adhering to the traditional Haiku structure.\n",
    "[Prompt tokens: 70, Completion tokens: 120]\n",
    "---------- Summary ----------\n",
    "Number of messages: 3\n",
    "Finish reason: Maximum number of messages 3 reached, current message count: 3\n",
    "Total prompt tokens: 100\n",
    "Total completion tokens: 139\n",
    "Duration: 3.34 seconds\n"
   ]
  },
  {
   "cell_type": "markdown",
   "id": "4c8f684a",
   "metadata": {},
   "source": [
    "The conversation stopped after reaching the maximum message limit. Since the primary agent didn’t get to respond to the feedback, let’s continue the conversation."
   ]
  },
  {
   "cell_type": "code",
   "execution_count": null,
   "id": "3cd33aa8",
   "metadata": {},
   "outputs": [],
   "source": [
    "# Use asyncio.run(...) if you are running this script as a standalone script.\n",
    "await Console(round_robin_team.run_stream())\n"
   ]
  },
  {
   "cell_type": "raw",
   "id": "20d1b6e5",
   "metadata": {
    "vscode": {
     "languageId": "raw"
    }
   },
   "source": [
    "---------- primary ----------\n",
    "Thank you for your feedback. Here is the revised Haiku:\n",
    "\n",
    "Soft rain whispers down,  \n",
    "Cobblestones glisten softly —  \n",
    "Paris dreams in gray.\n",
    "[Prompt tokens: 181, Completion tokens: 32]\n",
    "---------- critic ----------\n",
    "The revised Haiku now follows the traditional 5-7-5 syllable pattern, and it still beautifully captures the atmospheric mood of Paris in the rain. The imagery and flow are both clear and evocative. Well done on making the adjustment! \n",
    "\n",
    "APPROVE\n",
    "[Prompt tokens: 234, Completion tokens: 54]\n",
    "---------- primary ----------\n",
    "Thank you for your kind words and approval. I'm glad the revision meets your expectations and captures the essence of Paris. If you have any more requests or need further assistance, feel free to ask!\n",
    "[Prompt tokens: 279, Completion tokens: 39]\n",
    "---------- Summary ----------\n",
    "Number of messages: 3\n",
    "Finish reason: Maximum number of messages 3 reached, current message count: 3\n",
    "Total prompt tokens: 694\n",
    "Total completion tokens: 125\n",
    "Duration: 6.43 seconds\n"
   ]
  },
  {
   "cell_type": "markdown",
   "id": "3e7206d8",
   "metadata": {},
   "source": [
    "The team continued from where it left off, allowing the primary agent to respond to the feedback."
   ]
  },
  {
   "cell_type": "markdown",
   "id": "96a6a077",
   "metadata": {},
   "source": [
    "## Managing State"
   ]
  },
  {
   "cell_type": "markdown",
   "id": "68ef4623",
   "metadata": {},
   "source": [
    "### Saving and Loading Agents"
   ]
  },
  {
   "cell_type": "markdown",
   "id": "6fabe9cc",
   "metadata": {},
   "source": [
    "We can get the state of an agent by calling `save_state()` method on an `AssistantAgent`."
   ]
  },
  {
   "cell_type": "code",
   "execution_count": null,
   "id": "3ca6b1ee",
   "metadata": {},
   "outputs": [],
   "source": [
    "from autogen_agentchat.agents import AssistantAgent\n",
    "from autogen_agentchat.conditions import MaxMessageTermination\n",
    "from autogen_agentchat.messages import TextMessage\n",
    "from autogen_agentchat.teams import RoundRobinGroupChat\n",
    "from autogen_agentchat.ui import Console\n",
    "from autogen_core import CancellationToken\n",
    "from autogen_ext.models.openai import OpenAIChatCompletionClient\n",
    "\n",
    "model_client = OpenAIChatCompletionClient(model=\"gpt-4o-2024-08-06\")\n",
    "\n",
    "assistant_agent = AssistantAgent(\n",
    "    name=\"assistant_agent\",\n",
    "    system_message=\"You are a helpful assistant\",\n",
    "    model_client=model_client,\n",
    ")\n",
    "\n",
    "# Use asyncio.run(...) when running in a script.\n",
    "response = await assistant_agent.on_messages(\n",
    "    [TextMessage(content=\"Write a 3 line poem on lake tangayika\", source=\"user\")], CancellationToken()\n",
    ")\n",
    "print(response.chat_message)\n",
    "await model_client.close()\n"
   ]
  },
  {
   "cell_type": "raw",
   "id": "6a530ebe",
   "metadata": {
    "vscode": {
     "languageId": "raw"
    }
   },
   "source": [
    "In Tanganyika's embrace so wide and deep,  \n",
    "Ancient waters cradle secrets they keep,  \n",
    "Echoes of time where horizons sleep."
   ]
  },
  {
   "cell_type": "code",
   "execution_count": null,
   "id": "42f1490a",
   "metadata": {},
   "outputs": [],
   "source": [
    "agent_state = await assistant_agent.save_state()\n",
    "print(agent_state)"
   ]
  },
  {
   "cell_type": "code",
   "execution_count": null,
   "id": "a1795aa4",
   "metadata": {},
   "outputs": [],
   "source": [
    "model_client = OpenAIChatCompletionClient(model=\"gpt-4o-2024-08-06\")\n",
    "\n",
    "new_assistant_agent = AssistantAgent(\n",
    "    name=\"assistant_agent\",\n",
    "    system_message=\"You are a helpful assistant\",\n",
    "    model_client=model_client,\n",
    ")\n",
    "await new_assistant_agent.load_state(agent_state)\n",
    "\n",
    "# Use asyncio.run(...) when running in a script.\n",
    "response = await new_assistant_agent.on_messages(\n",
    "    [TextMessage(content=\"What was the last line of the previous poem you wrote\", source=\"user\")], CancellationToken()\n",
    ")\n",
    "print(response.chat_message)\n",
    "await model_client.close()\n"
   ]
  },
  {
   "cell_type": "raw",
   "id": "823fabeb",
   "metadata": {
    "vscode": {
     "languageId": "raw"
    }
   },
   "source": [
    "The last line of the poem was: \"Echoes of time where horizons sleep.\""
   ]
  },
  {
   "cell_type": "markdown",
   "id": "4cb6f049",
   "metadata": {},
   "source": [
    "- We can get the state of a team by calling `save_state` method on the team and load it back by calling `load_state` method on the team.\n",
    "- When we call `save_state` on a team, it saves the state of all the agents in the team."
   ]
  },
  {
   "cell_type": "code",
   "execution_count": null,
   "id": "edd60cee",
   "metadata": {},
   "outputs": [],
   "source": [
    "model_client = OpenAIChatCompletionClient(model=\"gpt-4o-2024-08-06\")\n",
    "\n",
    "# Define a team.\n",
    "assistant_agent = AssistantAgent(\n",
    "    name=\"assistant_agent\",\n",
    "    system_message=\"You are a helpful assistant\",\n",
    "    model_client=model_client,\n",
    ")\n",
    "agent_team = RoundRobinGroupChat([assistant_agent], termination_condition=MaxMessageTermination(max_messages=2))\n",
    "\n",
    "# Run the team and stream messages to the console.\n",
    "stream = agent_team.run_stream(task=\"Write a beautiful poem 3-line about lake tangayika\")\n",
    "\n",
    "# Use asyncio.run(...) when running in a script.\n",
    "await Console(stream)\n",
    "\n",
    "# Save the state of the agent team.\n",
    "team_state = await agent_team.save_state()\n"
   ]
  },
  {
   "cell_type": "raw",
   "id": "a288d488",
   "metadata": {
    "vscode": {
     "languageId": "raw"
    }
   },
   "source": [
    "---------- user ----------\n",
    "Write a beautiful poem 3-line about lake tangayika\n",
    "---------- assistant_agent ----------\n",
    "In Tanganyika's gleam, beneath the azure skies,  \n",
    "Whispers of ancient waters, in tranquil guise,  \n",
    "Nature's mirror, where dreams and serenity lie.\n",
    "[Prompt tokens: 29, Completion tokens: 34]\n",
    "---------- Summary ----------\n",
    "Number of messages: 2\n",
    "Finish reason: Maximum number of messages 2 reached, current message count: 2\n",
    "Total prompt tokens: 29\n",
    "Total completion tokens: 34\n",
    "Duration: 0.71 seconds"
   ]
  },
  {
   "cell_type": "code",
   "execution_count": null,
   "id": "93bac53f",
   "metadata": {},
   "outputs": [],
   "source": [
    "print(team_state)\n",
    "\n",
    "# Load team state.\n",
    "await agent_team.load_state(team_state)\n",
    "stream = agent_team.run_stream(task=\"What was the last line of the poem you wrote?\")\n",
    "await Console(stream)"
   ]
  },
  {
   "cell_type": "markdown",
   "id": "a914ad85",
   "metadata": {},
   "source": [
    "### Persisting State (File or Database)"
   ]
  },
  {
   "cell_type": "markdown",
   "id": "458fc69d",
   "metadata": {},
   "source": [
    "State is a dictionary that can be serialized to a file or written to a database."
   ]
  },
  {
   "cell_type": "code",
   "execution_count": null,
   "id": "ea67c28e",
   "metadata": {},
   "outputs": [],
   "source": [
    "import json\n",
    "\n",
    "## save state to disk\n",
    "\n",
    "with open(\"coding/team_state.json\", \"w\") as f:\n",
    "    json.dump(team_state, f)\n",
    "\n",
    "## load state from disk\n",
    "with open(\"coding/team_state.json\", \"r\") as f:\n",
    "    team_state = json.load(f)\n",
    "\n",
    "new_agent_team = RoundRobinGroupChat([assistant_agent], termination_condition=MaxMessageTermination(max_messages=2))\n",
    "await new_agent_team.load_state(team_state)\n",
    "stream = new_agent_team.run_stream(task=\"What was the last line of the poem you wrote?\")\n",
    "await Console(stream)\n",
    "await model_client.close()\n"
   ]
  },
  {
   "cell_type": "markdown",
   "id": "16250cac",
   "metadata": {},
   "source": [
    "## Advanced"
   ]
  },
  {
   "cell_type": "markdown",
   "id": "067d8791",
   "metadata": {},
   "source": [
    "### Selector Group Chat"
   ]
  },
  {
   "cell_type": "markdown",
   "id": "2f9b7294",
   "metadata": {},
   "source": [
    "#### Overview"
   ]
  },
  {
   "cell_type": "markdown",
   "id": "b4cedfcc",
   "metadata": {},
   "source": [
    "- `SelectorGroupChat` implements a team where participants take turns broadcasting messages to all other members.\n",
    "- Key features include:\n",
    "  - Model-based speaker selection\n",
    "  - Configurable participant roles and descriptions\n",
    "  - Prevention of consecutive turns by the same speaker (optional)\n",
    "  - Customizable selection prompting\n",
    "  - Customizable selection function to override the default model-based selection\n",
    "  - Customizable candidate function to narrow-down the set of agents for selection using model"
   ]
  },
  {
   "cell_type": "markdown",
   "id": "a576bd1d",
   "metadata": {},
   "source": [
    "#### Example - Web Search/Analysis"
   ]
  },
  {
   "cell_type": "code",
   "execution_count": null,
   "id": "10e99eff",
   "metadata": {},
   "outputs": [],
   "source": [
    "from typing import List, Sequence\n",
    "\n",
    "from autogen_agentchat.agents import AssistantAgent, UserProxyAgent\n",
    "from autogen_agentchat.conditions import MaxMessageTermination, TextMentionTermination\n",
    "from autogen_agentchat.messages import BaseAgentEvent, BaseChatMessage\n",
    "from autogen_agentchat.teams import SelectorGroupChat\n",
    "from autogen_agentchat.ui import Console\n",
    "from autogen_ext.models.openai import OpenAIChatCompletionClient"
   ]
  },
  {
   "cell_type": "code",
   "execution_count": null,
   "id": "27c106c4",
   "metadata": {},
   "outputs": [],
   "source": [
    "# Note: This example uses mock tools instead of real APIs for demonstration purposes\n",
    "def search_web_tool(query: str) -> str:\n",
    "    if \"2006-2007\" in query:\n",
    "        return \"\"\"Here are the total points scored by Miami Heat players in the 2006-2007 season:\n",
    "        Udonis Haslem: 844 points\n",
    "        Dwayne Wade: 1397 points\n",
    "        James Posey: 550 points\n",
    "        ...\n",
    "        \"\"\"\n",
    "    elif \"2007-2008\" in query:\n",
    "        return \"The number of total rebounds for Dwayne Wade in the Miami Heat season 2007-2008 is 214.\"\n",
    "    elif \"2008-2009\" in query:\n",
    "        return \"The number of total rebounds for Dwayne Wade in the Miami Heat season 2008-2009 is 398.\"\n",
    "    return \"No data found.\"\n",
    "\n",
    "\n",
    "def percentage_change_tool(start: float, end: float) -> float:\n",
    "    return ((end - start) / start) * 100\n"
   ]
  },
  {
   "cell_type": "code",
   "execution_count": null,
   "id": "a40503b6",
   "metadata": {},
   "outputs": [],
   "source": [
    "model_client = OpenAIChatCompletionClient(model=\"gpt-4o\")\n",
    "\n",
    "planning_agent = AssistantAgent(\n",
    "    \"PlanningAgent\",\n",
    "    description=\"An agent for planning tasks, this agent should be the first to engage when \" \\\n",
    "    \"given a new task.\",\n",
    "    model_client=model_client,\n",
    "    system_message=\"\"\"\n",
    "    You are a planning agent.\n",
    "    Your job is to break down complex tasks into smaller, manageable subtasks.\n",
    "    Your team members are:\n",
    "        WebSearchAgent: Searches for information\n",
    "        DataAnalystAgent: Performs calculations\n",
    "\n",
    "    You only plan and delegate tasks - you do not execute them yourself.\n",
    "\n",
    "    When assigning tasks, use this format:\n",
    "    1. <agent> : <task>\n",
    "\n",
    "    After all tasks are complete, summarize the findings and end with \"TERMINATE\".\n",
    "    \"\"\",\n",
    ")\n",
    "\n",
    "web_search_agent = AssistantAgent(\n",
    "    \"WebSearchAgent\",\n",
    "    description=\"An agent for searching information on the web.\",\n",
    "    tools=[search_web_tool],\n",
    "    model_client=model_client,\n",
    "    system_message=\"\"\"\n",
    "    You are a web search agent.\n",
    "    Your only tool is search_tool - use it to find information.\n",
    "    You make only one search call at a time.\n",
    "    Once you have the results, you never do calculations based on them.\n",
    "    \"\"\",\n",
    ")\n",
    "\n",
    "data_analyst_agent = AssistantAgent(\n",
    "    \"DataAnalystAgent\",\n",
    "    description=\"An agent for performing calculations.\",\n",
    "    model_client=model_client,\n",
    "    tools=[percentage_change_tool],\n",
    "    system_message=\"\"\"\n",
    "    You are a data analyst.\n",
    "    Given the tasks you have been assigned, you should analyze the data and provide \n",
    "    results using the tools provided.\n",
    "    If you have not seen the data, ask for it.\n",
    "    \"\"\",\n",
    ")\n"
   ]
  },
  {
   "cell_type": "markdown",
   "id": "541c6f24",
   "metadata": {},
   "source": [
    "- By default, `AssistantAgent` returns the tool output as the response. \n",
    "- If your tool does not return a well-formed string in natural language format, you may want to add a reflection step within the agent by setting `reflect_on_tool_use=True` when creating the agent. \n",
    "- This will allow the agent to reflect on the tool output and provide a natural language response."
   ]
  },
  {
   "cell_type": "code",
   "execution_count": null,
   "id": "130c0560",
   "metadata": {},
   "outputs": [],
   "source": [
    "text_mention_termination = TextMentionTermination(\"TERMINATE\")\n",
    "max_messages_termination = MaxMessageTermination(max_messages=25)\n",
    "termination = text_mention_termination | max_messages_termination"
   ]
  },
  {
   "cell_type": "code",
   "execution_count": null,
   "id": "12676115",
   "metadata": {},
   "outputs": [],
   "source": [
    "selector_prompt = \"\"\"Select an agent to perform task.\n",
    "\n",
    "{roles}\n",
    "\n",
    "Current conversation context:\n",
    "{history}\n",
    "\n",
    "Read the above conversation, then select an agent from {participants} to perform the next task.\n",
    "Make sure the planner agent has assigned tasks before other agents start working.\n",
    "Only select one agent.\n",
    "\"\"\""
   ]
  },
  {
   "cell_type": "code",
   "execution_count": null,
   "id": "6b5cf354",
   "metadata": {},
   "outputs": [],
   "source": [
    "team = SelectorGroupChat(\n",
    "    [planning_agent, web_search_agent, data_analyst_agent],\n",
    "    model_client=model_client,\n",
    "    termination_condition=termination,\n",
    "    selector_prompt=selector_prompt,\n",
    "    allow_repeated_speaker=True,  # Allow an agent to speak multiple turns in a row.\n",
    ")\n"
   ]
  },
  {
   "cell_type": "code",
   "execution_count": null,
   "id": "31bc33e2",
   "metadata": {},
   "outputs": [],
   "source": [
    "task = \"Who was the Miami Heat player with the highest points in the 2006-2007 season, and what was the percentage change in his total rebounds between the 2007-2008 and 2008-2009 seasons?\"\n",
    "# Use asyncio.run(...) if you are running this in a script.\n",
    "await Console(team.run_stream(task=task))"
   ]
  },
  {
   "cell_type": "markdown",
   "id": "e4845688",
   "metadata": {},
   "source": [
    "#### Custom Selector Function"
   ]
  },
  {
   "cell_type": "markdown",
   "id": "42c13a82",
   "metadata": {},
   "source": [
    "- Returning `None` from the custom selector function will use the default model-based selection."
   ]
  },
  {
   "cell_type": "code",
   "execution_count": null,
   "id": "290e319c",
   "metadata": {},
   "outputs": [],
   "source": [
    "# For instance, we want the Planning Agent to speak immediately after any specialized agent to check the progress.\n",
    "def selector_func(messages: Sequence[BaseAgentEvent | BaseChatMessage]) -> str | None:\n",
    "    if messages[-1].source != planning_agent.name:\n",
    "        return planning_agent.name\n",
    "    return None\n",
    "\n",
    "\n",
    "# Reset the previous team and run the chat again with the selector function.\n",
    "await team.reset()\n",
    "team = SelectorGroupChat(\n",
    "    [planning_agent, web_search_agent, data_analyst_agent],\n",
    "    model_client=model_client,\n",
    "    termination_condition=termination,\n",
    "    selector_prompt=selector_prompt,\n",
    "    allow_repeated_speaker=True,\n",
    "    selector_func=selector_func,\n",
    ")\n",
    "\n",
    "await Console(team.run_stream(task=task))"
   ]
  },
  {
   "cell_type": "markdown",
   "id": "6345ef39",
   "metadata": {},
   "source": [
    "#### Custom Candidate Function"
   ]
  },
  {
   "cell_type": "markdown",
   "id": "878a8dc3",
   "metadata": {},
   "source": [
    "- One more possible requirement might be to automatically select the next speaker from a **filtered** list of agents. \n",
    "- For this, we can set `candidate_func` parameter with a custom candidate function to filter down the list of potential agents for speaker selection for each turn of groupchat.\n",
    "- This allow us to restrict speaker selection to a specific set of agents after a given agent.\n",
    "- The `candidate_func` is only valid if `selector_func` is not set. Returning `None` or an empty list `[]` from the custom candidate function will raise a `ValueError`."
   ]
  },
  {
   "cell_type": "code",
   "execution_count": null,
   "id": "debad31e",
   "metadata": {},
   "outputs": [],
   "source": [
    "def candidate_func(messages: Sequence[BaseAgentEvent | BaseChatMessage]) -> List[str]:\n",
    "    # keep planning_agent first one to plan out the tasks\n",
    "    if messages[-1].source == \"user\":\n",
    "        return [planning_agent.name]\n",
    "\n",
    "    # if previous agent is planning_agent and if it explicitely asks for web_search_agent\n",
    "    # or data_analyst_agent or both (in-case of re-planning or re-assignment of tasks)\n",
    "    # then return those specific agents\n",
    "    last_message = messages[-1]\n",
    "    if last_message.source == planning_agent.name:\n",
    "        participants = []\n",
    "        if web_search_agent.name in last_message.to_text():\n",
    "            participants.append(web_search_agent.name)\n",
    "        if data_analyst_agent.name in last_message.to_text():\n",
    "            participants.append(data_analyst_agent.name)\n",
    "        if participants:\n",
    "            return participants  # SelectorGroupChat will select from the remaining two agents.\n",
    "\n",
    "    # we can assume that the task is finished once the web_search_agent\n",
    "    # and data_analyst_agent have took their turns, thus we send\n",
    "    # in planning_agent to terminate the chat\n",
    "    previous_set_of_agents = set(message.source for message in messages)\n",
    "    if web_search_agent.name in previous_set_of_agents and data_analyst_agent.name in previous_set_of_agents:\n",
    "        return [planning_agent.name]\n",
    "\n",
    "    # if no-conditions are met then return all the agents\n",
    "    return [planning_agent.name, web_search_agent.name, data_analyst_agent.name]\n",
    "\n",
    "\n",
    "# Reset the previous team and run the chat again with the selector function.\n",
    "await team.reset()\n",
    "team = SelectorGroupChat(\n",
    "    [planning_agent, web_search_agent, data_analyst_agent],\n",
    "    model_client=model_client,\n",
    "    termination_condition=termination,\n",
    "    candidate_func=candidate_func,\n",
    ")\n",
    "\n",
    "await Console(team.run_stream(task=task))"
   ]
  },
  {
   "cell_type": "markdown",
   "id": "d085c2d8",
   "metadata": {},
   "source": [
    "#### User Feedback"
   ]
  },
  {
   "cell_type": "markdown",
   "id": "7f390478",
   "metadata": {},
   "source": [
    "- We can add `UserProxyAgent` to the team to provide user feedback during a run."
   ]
  },
  {
   "cell_type": "code",
   "execution_count": null,
   "id": "4a175026",
   "metadata": {},
   "outputs": [],
   "source": [
    "user_proxy_agent = UserProxyAgent(\n",
    "    \"UserProxyAgent\", \n",
    "    description=\"A proxy for the user to approve or disapprove tasks.\")\n",
    "\n",
    "def selector_func_with_user_proxy(messages: Sequence[BaseAgentEvent | BaseChatMessage]) -> str | None:\n",
    "    if messages[-1].source != planning_agent.name and messages[-1].source != user_proxy_agent.name:\n",
    "        # Planning agent should be the first to engage when given a new task, or check progress.\n",
    "        return planning_agent.name\n",
    "    if messages[-1].source == planning_agent.name:\n",
    "        if messages[-2].source == user_proxy_agent.name and \"APPROVE\" in messages[-1].content.upper():  # type: ignore\n",
    "            # User has approved the plan, proceed to the next agent.\n",
    "            return None\n",
    "        # Use the user proxy agent to get the user's approval to proceed.\n",
    "        return user_proxy_agent.name\n",
    "    if messages[-1].source == user_proxy_agent.name:\n",
    "        # If the user does not approve, return to the planning agent.\n",
    "        if \"APPROVE\" not in messages[-1].content.upper():  # type: ignore\n",
    "            return planning_agent.name\n",
    "    return None\n",
    "\n",
    "\n",
    "# Reset the previous agents and run the chat again with the user proxy agent and selector function.\n",
    "await team.reset()\n",
    "team = SelectorGroupChat(\n",
    "    [planning_agent, web_search_agent, data_analyst_agent, user_proxy_agent],\n",
    "    model_client=model_client,\n",
    "    termination_condition=termination,\n",
    "    selector_prompt=selector_prompt,\n",
    "    selector_func=selector_func_with_user_proxy,\n",
    "    allow_repeated_speaker=True,\n",
    ")\n",
    "\n",
    "await Console(team.run_stream(task=task))\n"
   ]
  },
  {
   "cell_type": "markdown",
   "id": "9c024584",
   "metadata": {},
   "source": [
    "#### Reasoning Models"
   ]
  },
  {
   "cell_type": "markdown",
   "id": "ffcc8941",
   "metadata": {},
   "source": [
    "- If you are using a reasoning model like `o3-mini`, you will need to keep the selector prompt and system messages as simple and to the point as possible. \n",
    "- This is because the reasoning models are already good at coming up with their own instructions given the context provided to them.\n",
    "- This also means that we don’t need a planning agent to break down the task anymore, since the `SelectorGroupChat` that uses a reasoning model can do that on its own."
   ]
  },
  {
   "cell_type": "code",
   "execution_count": null,
   "id": "03b1d53f",
   "metadata": {},
   "outputs": [],
   "source": [
    "model_client = OpenAIChatCompletionClient(model=\"o3-mini\")\n",
    "\n",
    "web_search_agent = AssistantAgent(\n",
    "    \"WebSearchAgent\",\n",
    "    description=\"An agent for searching information on the web.\",\n",
    "    tools=[search_web_tool],\n",
    "    model_client=model_client,\n",
    "    system_message=\"\"\"Use web search tool to find information.\"\"\",\n",
    ")\n",
    "\n",
    "data_analyst_agent = AssistantAgent(\n",
    "    \"DataAnalystAgent\",\n",
    "    description=\"An agent for performing calculations.\",\n",
    "    model_client=model_client,\n",
    "    tools=[percentage_change_tool],\n",
    "    system_message=\"\"\"Use tool to perform calculation. If you have not seen the data, ask for it.\"\"\",\n",
    ")\n",
    "\n",
    "user_proxy_agent = UserProxyAgent(\n",
    "    \"UserProxyAgent\",\n",
    "    description=\"A user to approve or disapprove tasks.\",\n",
    ")\n",
    "\n",
    "selector_prompt = \"\"\"Select an agent to perform task.\n",
    "\n",
    "{roles}\n",
    "\n",
    "Current conversation context:\n",
    "{history}\n",
    "\n",
    "Read the above conversation, then select an agent from {participants} to perform the next task.\n",
    "When the task is complete, let the user approve or disapprove the task.\n",
    "\"\"\"\n",
    "\n",
    "team = SelectorGroupChat(\n",
    "    [web_search_agent, data_analyst_agent, user_proxy_agent],\n",
    "    model_client=model_client,\n",
    "    termination_condition=termination,  # Use the same termination condition as before.\n",
    "    selector_prompt=selector_prompt,\n",
    "    allow_repeated_speaker=True,\n",
    ")\n",
    "\n",
    "await Console(team.run_stream(task=task))"
   ]
  },
  {
   "cell_type": "markdown",
   "id": "5d9e7450",
   "metadata": {},
   "source": [
    "### Memory and RAG"
   ]
  },
  {
   "cell_type": "markdown",
   "id": "2268a677",
   "metadata": {},
   "source": [
    "- There are several use cases where it is valuable to maintain a store of useful facts that can be intelligently added to the context of the agent just before a specific step. \n",
    "- The typically use case here is a RAG pattern where a query is used to retrieve relevant information from a database that is then added to the agent’s context."
   ]
  },
  {
   "cell_type": "markdown",
   "id": "c7357d4c",
   "metadata": {},
   "source": [
    "AgentChat provides a `Memory` protocol that can be extended to provide this functionality. The key methods are `query`, `update_context`, `add`, `clear`, and `close`.\n",
    "- `add`: Add new entries to the memory store\n",
    "- `query`: Retrieve relevant information from the memory store\n",
    "- `update_context`: Mutate an agent’s internal `model_context` by adding the retrieved information (used in the `AssistantAgent` class)\n",
    "- `clear`: Clear all entries from the memory store\n",
    "- `close`: Clean up any resources used by the memory store"
   ]
  },
  {
   "cell_type": "markdown",
   "id": "3406e035",
   "metadata": {},
   "source": [
    "#### List Memory Example"
   ]
  },
  {
   "cell_type": "markdown",
   "id": "6b04895a",
   "metadata": {},
   "source": [
    "It is a simple list-based memory implementation that maintains memories in chronological order, appending the most recent memories to the model’s context. "
   ]
  },
  {
   "cell_type": "code",
   "execution_count": null,
   "id": "e13fc7c8",
   "metadata": {},
   "outputs": [],
   "source": [
    "from autogen_agentchat.agents import AssistantAgent\n",
    "from autogen_agentchat.ui import Console\n",
    "from autogen_core.memory import ListMemory, MemoryContent, MemoryMimeType\n",
    "from autogen_ext.models.openai import OpenAIChatCompletionClient"
   ]
  },
  {
   "cell_type": "code",
   "execution_count": null,
   "id": "5e95fc4c",
   "metadata": {},
   "outputs": [],
   "source": [
    "# Initialize user memory\n",
    "user_memory = ListMemory()\n",
    "\n",
    "# Add user preferences to memory\n",
    "await user_memory.add(MemoryContent(content=\"The weather should be in metric units\", mime_type=MemoryMimeType.TEXT))\n",
    "await user_memory.add(MemoryContent(content=\"Meal recipe must be vegan\", mime_type=MemoryMimeType.TEXT))\n",
    "\n",
    "\n",
    "async def get_weather(city: str, units: str = \"imperial\") -> str:\n",
    "    if units == \"imperial\":\n",
    "        return f\"The weather in {city} is 73 °F and Sunny.\"\n",
    "    elif units == \"metric\":\n",
    "        return f\"The weather in {city} is 23 °C and Sunny.\"\n",
    "    else:\n",
    "        return f\"Sorry, I don't know the weather in {city}.\"\n",
    "\n",
    "\n",
    "assistant_agent = AssistantAgent(\n",
    "    name=\"assistant_agent\",\n",
    "    model_client=OpenAIChatCompletionClient(\n",
    "        model=\"gpt-4o-2024-08-06\",\n",
    "    ),\n",
    "    tools=[get_weather],\n",
    "    memory=[user_memory],\n",
    ")\n"
   ]
  },
  {
   "cell_type": "code",
   "execution_count": null,
   "id": "b6cf41ca",
   "metadata": {},
   "outputs": [],
   "source": [
    "# Run the agent with a task.\n",
    "stream = assistant_agent.run_stream(task=\"What is the weather in New York?\")\n",
    "await Console(stream)"
   ]
  },
  {
   "cell_type": "markdown",
   "id": "011521a8",
   "metadata": {},
   "source": [
    "We can inspect that the assistant_agent model_context is actually updated with the retrieved memory entries."
   ]
  },
  {
   "cell_type": "code",
   "execution_count": null,
   "id": "5f4c27ee",
   "metadata": {},
   "outputs": [],
   "source": [
    "await assistant_agent._model_context.get_messages()"
   ]
  },
  {
   "cell_type": "markdown",
   "id": "3bb241bb",
   "metadata": {},
   "source": [
    "#### Custom Memory Stores (Vector DBs, etc.)"
   ]
  },
  {
   "cell_type": "markdown",
   "id": "c61aa8b7",
   "metadata": {},
   "source": [
    "Currently, the following example memory stores are available as part of the `autogen_ext` extensions package.\n",
    "- `autogen_ext.memory.chromadb.ChromaDBVectorMemory`: A memory store that uses a vector database to store and retrieve information.\n",
    "- `autogen_ext.memory.chromadb.SentenceTransformerEmbeddingFunctionConfig`: A configuration class for the SentenceTransformer embedding function used by the `ChromaDBVectorMemory` store. \n",
    "- Note that other embedding functions such as `autogen_ext.memory.openai.OpenAIEmbeddingFunctionConfig` can also be used with the `ChromaDBVectorMemory` store."
   ]
  },
  {
   "cell_type": "code",
   "execution_count": null,
   "id": "d439495c",
   "metadata": {},
   "outputs": [],
   "source": [
    "import tempfile\n",
    "\n",
    "from autogen_agentchat.agents import AssistantAgent\n",
    "from autogen_agentchat.ui import Console\n",
    "from autogen_core.memory import MemoryContent, MemoryMimeType\n",
    "from autogen_ext.memory.chromadb import (\n",
    "    ChromaDBVectorMemory,\n",
    "    PersistentChromaDBVectorMemoryConfig,\n",
    "    SentenceTransformerEmbeddingFunctionConfig,\n",
    ")\n",
    "from autogen_ext.models.openai import OpenAIChatCompletionClient\n",
    "\n",
    "# Use a temporary directory for ChromaDB persistence\n",
    "with tempfile.TemporaryDirectory() as tmpdir:\n",
    "    chroma_user_memory = ChromaDBVectorMemory(\n",
    "        config=PersistentChromaDBVectorMemoryConfig(\n",
    "            collection_name=\"preferences\",\n",
    "            persistence_path=tmpdir,  # Use the temp directory here\n",
    "            k=2,  # Return top k results\n",
    "            score_threshold=0.4,  # Minimum similarity score\n",
    "            embedding_function_config=SentenceTransformerEmbeddingFunctionConfig(\n",
    "                model_name=\"all-MiniLM-L6-v2\"  # Use default model for testing\n",
    "            )\n",
    "        )\n",
    "    )\n",
    "    # Add user preferences to memory\n",
    "    await chroma_user_memory.add(\n",
    "        MemoryContent(\n",
    "            content=\"The weather should be in metric units\",\n",
    "            mime_type=MemoryMimeType.TEXT,\n",
    "            metadata={\"category\": \"preferences\", \"type\": \"units\"},\n",
    "        )\n",
    "    )\n",
    "\n",
    "    await chroma_user_memory.add(\n",
    "        MemoryContent(\n",
    "            content=\"Meal recipe must be vegan\",\n",
    "            mime_type=MemoryMimeType.TEXT,\n",
    "            metadata={\"category\": \"preferences\", \"type\": \"dietary\"},\n",
    "        )\n",
    "    )\n",
    "\n",
    "    model_client = OpenAIChatCompletionClient(\n",
    "        model=\"gpt-4o\",\n",
    "    )\n",
    "\n",
    "    # Create assistant agent with ChromaDB memory\n",
    "    assistant_agent = AssistantAgent(\n",
    "        name=\"assistant_agent\",\n",
    "        model_client=model_client,\n",
    "        tools=[get_weather],\n",
    "        memory=[chroma_user_memory],\n",
    "    )\n",
    "\n",
    "    stream = assistant_agent.run_stream(task=\"What is the weather in New York?\")\n",
    "    await Console(stream)\n",
    "\n",
    "    await model_client.close()\n",
    "    await chroma_user_memory.close()\n"
   ]
  },
  {
   "cell_type": "markdown",
   "id": "6abdbab8",
   "metadata": {},
   "source": [
    "#### RAG Agent: Putting It All Together"
   ]
  },
  {
   "cell_type": "markdown",
   "id": "c3a9e974",
   "metadata": {},
   "source": [
    "The RAG (Retrieval Augmented Generation) pattern which is common in building AI systems encompasses two distinct phases:\n",
    "- **Indexing**: Loading documents, chunking them, and storing them in a vector database\n",
    "- **Retrieval**: Finding and using relevant chunks during conversation runtime"
   ]
  },
  {
   "cell_type": "markdown",
   "id": "db9b0486",
   "metadata": {},
   "source": [
    "Building a Simple RAG Agent"
   ]
  },
  {
   "cell_type": "code",
   "execution_count": null,
   "id": "63886b2a",
   "metadata": {},
   "outputs": [],
   "source": [
    "# To begin, let’s create a simple document indexer that we will used to load documents, \n",
    "# chunk them, and store them in a `ChromaDBVectorMemory` memory store.\n",
    "\n",
    "import re\n",
    "from typing import List\n",
    "\n",
    "import aiofiles\n",
    "import aiohttp\n",
    "from autogen_core.memory import Memory, MemoryContent, MemoryMimeType\n",
    "\n",
    "\n",
    "class SimpleDocumentIndexer:\n",
    "    \"\"\"Basic document indexer for AutoGen Memory.\"\"\"\n",
    "\n",
    "    def __init__(self, memory: Memory, chunk_size: int = 1500) -> None:\n",
    "        self.memory = memory\n",
    "        self.chunk_size = chunk_size\n",
    "\n",
    "    async def _fetch_content(self, source: str) -> str:\n",
    "        \"\"\"Fetch content from URL or file.\"\"\"\n",
    "        if source.startswith((\"http://\", \"https://\")):\n",
    "            async with aiohttp.ClientSession() as session:\n",
    "                async with session.get(source) as response:\n",
    "                    return await response.text()\n",
    "        else:\n",
    "            async with aiofiles.open(source, \"r\", encoding=\"utf-8\") as f:\n",
    "                return await f.read()\n",
    "\n",
    "    def _strip_html(self, text: str) -> str:\n",
    "        \"\"\"Remove HTML tags and normalize whitespace.\"\"\"\n",
    "        text = re.sub(r\"<[^>]*>\", \" \", text)\n",
    "        text = re.sub(r\"\\s+\", \" \", text)\n",
    "        return text.strip()\n",
    "\n",
    "    def _split_text(self, text: str) -> List[str]:\n",
    "        \"\"\"Split text into fixed-size chunks.\"\"\"\n",
    "        chunks: list[str] = []\n",
    "        # Just split text into fixed-size chunks\n",
    "        for i in range(0, len(text), self.chunk_size):\n",
    "            chunk = text[i : i + self.chunk_size]\n",
    "            chunks.append(chunk.strip())\n",
    "        return chunks\n",
    "\n",
    "    async def index_documents(self, sources: List[str]) -> int:\n",
    "        \"\"\"Index documents into memory.\"\"\"\n",
    "        total_chunks = 0\n",
    "\n",
    "        for source in sources:\n",
    "            try:\n",
    "                content = await self._fetch_content(source)\n",
    "\n",
    "                # Strip HTML if content appears to be HTML\n",
    "                if \"<\" in content and \">\" in content:\n",
    "                    content = self._strip_html(content)\n",
    "\n",
    "                chunks = self._split_text(content)\n",
    "\n",
    "                for i, chunk in enumerate(chunks):\n",
    "                    await self.memory.add(\n",
    "                        MemoryContent(\n",
    "                            content=chunk, mime_type=MemoryMimeType.TEXT, metadata={\"source\": source, \"chunk_index\": i}\n",
    "                        )\n",
    "                    )\n",
    "\n",
    "                total_chunks += len(chunks)\n",
    "\n",
    "            except Exception as e:\n",
    "                print(f\"Error indexing {source}: {str(e)}\")\n",
    "\n",
    "        return total_chunks\n"
   ]
  },
  {
   "cell_type": "code",
   "execution_count": null,
   "id": "467a0c61",
   "metadata": {},
   "outputs": [],
   "source": [
    "## Now let’s use our indexer with ChromaDBVectorMemory to build a complete RAG agent\n",
    "\n",
    "import os\n",
    "from pathlib import Path\n",
    "\n",
    "from autogen_agentchat.agents import AssistantAgent\n",
    "from autogen_agentchat.ui import Console\n",
    "from autogen_ext.memory.chromadb import ChromaDBVectorMemory, PersistentChromaDBVectorMemoryConfig\n",
    "from autogen_ext.models.openai import OpenAIChatCompletionClient\n",
    "\n",
    "# Initialize vector memory\n",
    "\n",
    "rag_memory = ChromaDBVectorMemory(\n",
    "    config=PersistentChromaDBVectorMemoryConfig(\n",
    "        collection_name=\"autogen_docs\",\n",
    "        persistence_path=os.path.join(str(Path.home()), \".chromadb_autogen\"),\n",
    "        k=3,  # Return top 3 results\n",
    "        score_threshold=0.4,  # Minimum similarity score\n",
    "    )\n",
    ")\n",
    "\n",
    "await rag_memory.clear()  # Clear existing memory\n",
    "\n",
    "# Index AutoGen documentation\n",
    "async def index_autogen_docs() -> None:\n",
    "    indexer = SimpleDocumentIndexer(memory=rag_memory)\n",
    "    sources = [\n",
    "        \"https://raw.githubusercontent.com/microsoft/autogen/main/README.md\",\n",
    "        \"https://microsoft.github.io/autogen/dev/user-guide/agentchat-user-guide/tutorial/agents.html\",\n",
    "        \"https://microsoft.github.io/autogen/dev/user-guide/agentchat-user-guide/tutorial/teams.html\",\n",
    "        \"https://microsoft.github.io/autogen/dev/user-guide/agentchat-user-guide/tutorial/termination.html\",\n",
    "    ]\n",
    "    chunks: int = await indexer.index_documents(sources)\n",
    "    print(f\"Indexed {chunks} chunks from {len(sources)} AutoGen documents\")\n",
    "\n",
    "\n",
    "await index_autogen_docs()\n",
    "\n",
    "# Create our RAG assistant agent\n",
    "rag_assistant = AssistantAgent(\n",
    "    name=\"rag_assistant\", \n",
    "    model_client=OpenAIChatCompletionClient(model=\"gpt-4o\"), \n",
    "    memory=[rag_memory]\n",
    ")\n",
    "\n",
    "# Ask questions about AutoGen\n",
    "stream = rag_assistant.run_stream(task=\"What is AgentChat?\")\n",
    "await Console(stream)\n",
    "\n",
    "# Remember to close the memory when done\n",
    "await rag_memory.close()\n"
   ]
  },
  {
   "cell_type": "markdown",
   "id": "f0a14ce4",
   "metadata": {},
   "source": [
    "### Logging"
   ]
  },
  {
   "cell_type": "markdown",
   "id": "45df74f1",
   "metadata": {},
   "source": [
    "- AutoGen uses Python’s built-in `logging` module."
   ]
  },
  {
   "cell_type": "code",
   "execution_count": null,
   "id": "ab17d52a",
   "metadata": {},
   "outputs": [],
   "source": [
    "import logging\n",
    "\n",
    "from autogen_agentchat import EVENT_LOGGER_NAME, TRACE_LOGGER_NAME\n",
    "\n",
    "logging.basicConfig(level=logging.WARNING)\n",
    "\n",
    "# For trace logging.\n",
    "trace_logger = logging.getLogger(TRACE_LOGGER_NAME)\n",
    "trace_logger.addHandler(logging.StreamHandler())\n",
    "trace_logger.setLevel(logging.DEBUG)\n",
    "\n",
    "# For structured message logging, such as low-level messages between agents.\n",
    "event_logger = logging.getLogger(EVENT_LOGGER_NAME)\n",
    "event_logger.addHandler(logging.StreamHandler())\n",
    "event_logger.setLevel(logging.DEBUG)"
   ]
  },
  {
   "cell_type": "markdown",
   "id": "308d8f5b",
   "metadata": {},
   "source": [
    "### Tracing and Observability"
   ]
  },
  {
   "cell_type": "markdown",
   "id": "5a256d71",
   "metadata": {},
   "source": [
    "- AutoGen has built-in support for tracing and observability for collecting comprehensive records on the execution of your application. \n",
    "- This feature is useful for debugging, performance analysis, and understanding the flow of your application.\n",
    "- This capability is powered by the OpenTelemetry library, which means you can use any OpenTelemetry-compatible backend to collect and analyze traces."
   ]
  },
  {
   "cell_type": "markdown",
   "id": "d4a9114e",
   "metadata": {},
   "source": [
    "**Setup**\n",
    "- pip install `opentelemetry-sdk` `opentelemetry-exporter-otlp-proto-grpc` `opentelemetry-instrumentation-openai`\n"
   ]
  },
  {
   "cell_type": "markdown",
   "id": "87b24b4f",
   "metadata": {},
   "source": [
    "**Telemetry Backend**\n",
    "- To collect and view traces, you need to set up a telemetry backend. \n",
    "- Several open-source options are available, including Jaeger, Zipkin.\n",
    "- For a quick start, you can run Jaeger locally using Docker:"
   ]
  },
  {
   "cell_type": "markdown",
   "id": "e7ccf0c3",
   "metadata": {},
   "source": [
    "Below command starts a Jaeger instance that listens on port 16686 for the Jaeger UI and port 4317 for the OpenTelemetry collector. You can access the Jaeger UI at http://localhost:16686."
   ]
  },
  {
   "cell_type": "code",
   "execution_count": null,
   "id": "c960391b",
   "metadata": {
    "vscode": {
     "languageId": "powershell"
    }
   },
   "outputs": [],
   "source": [
    "  docker run -d --name jaeger \\\n",
    "  -e COLLECTOR_OTLP_ENABLED=true \\\n",
    "  -p 16686:16686 \\\n",
    "  -p 4317:4317 \\\n",
    "  -p 4318:4318 \\\n",
    "  jaegertracing/all-in-one:latest"
   ]
  },
  {
   "cell_type": "markdown",
   "id": "2428c6e7",
   "metadata": {},
   "source": [
    "Tracing an AgentChat Team"
   ]
  },
  {
   "cell_type": "code",
   "execution_count": null,
   "id": "b02639f7",
   "metadata": {},
   "outputs": [],
   "source": [
    "from opentelemetry import trace\n",
    "from opentelemetry.exporter.otlp.proto.grpc.trace_exporter import OTLPSpanExporter\n",
    "from opentelemetry.instrumentation.openai import OpenAIInstrumentor\n",
    "from opentelemetry.sdk.resources import Resource\n",
    "from opentelemetry.sdk.trace import TracerProvider\n",
    "from opentelemetry.sdk.trace.export import BatchSpanProcessor\n",
    "\n",
    "# Set up telemetry span exporter.\n",
    "otel_exporter = OTLPSpanExporter(endpoint=\"http://localhost:4317\", insecure=True)\n",
    "span_processor = BatchSpanProcessor(otel_exporter)\n",
    "\n",
    "# Set up telemetry trace provider.\n",
    "tracer_provider = TracerProvider(resource=Resource({\"service.name\": \"autogen-test-agentchat\"}))\n",
    "tracer_provider.add_span_processor(span_processor)\n",
    "trace.set_tracer_provider(tracer_provider)\n",
    "\n",
    "# Instrument the OpenAI Python library\n",
    "OpenAIInstrumentor().instrument()\n",
    "\n",
    "# we will get reference this tracer later using its service name\n",
    "# tracer = trace.get_tracer(\"autogen-test-agentchat\")"
   ]
  },
  {
   "cell_type": "markdown",
   "id": "51b5f7ea",
   "metadata": {},
   "source": [
    "- AgentChat teams are run using the AutoGen Core’s agent runtime. \n",
    "- In turn, the runtime is already instrumented to log.\n",
    "- To disable the agent runtime telemetry, you can set the `trace_provider` to `opentelemetry.trace.NoOpTraceProvider` in the runtime constructor.\n",
    "- Additionally, you can set the environment variable `AUTOGEN_DISABLE_RUNTIME_TRACING` to `true` to disable the agent runtime telemetry if you don’t have access to the runtime constructor."
   ]
  },
  {
   "cell_type": "code",
   "execution_count": null,
   "id": "9e98fd60",
   "metadata": {},
   "outputs": [],
   "source": [
    "from autogen_agentchat.agents import AssistantAgent\n",
    "from autogen_agentchat.conditions import MaxMessageTermination, TextMentionTermination\n",
    "from autogen_agentchat.teams import SelectorGroupChat\n",
    "from autogen_agentchat.ui import Console\n",
    "from autogen_core import SingleThreadedAgentRuntime\n",
    "from autogen_ext.models.openai import OpenAIChatCompletionClient\n",
    "\n",
    "\n",
    "def search_web_tool(query: str) -> str:\n",
    "    if \"2006-2007\" in query:\n",
    "        return \"\"\"Here are the total points scored by Miami Heat players in the 2006-2007 season:\n",
    "        Udonis Haslem: 844 points\n",
    "        Dwayne Wade: 1397 points\n",
    "        James Posey: 550 points\n",
    "        ...\n",
    "        \"\"\"\n",
    "    elif \"2007-2008\" in query:\n",
    "        return \"The number of total rebounds for Dwayne Wade in the Miami Heat season 2007-2008 is 214.\"\n",
    "    elif \"2008-2009\" in query:\n",
    "        return \"The number of total rebounds for Dwayne Wade in the Miami Heat season 2008-2009 is 398.\"\n",
    "    return \"No data found.\"\n",
    "\n",
    "\n",
    "def percentage_change_tool(start: float, end: float) -> float:\n",
    "    return ((end - start) / start) * 100\n",
    "\n",
    "\n",
    "async def main() -> None:\n",
    "    model_client = OpenAIChatCompletionClient(model=\"gpt-4o\")\n",
    "\n",
    "    # Get a tracer with the default tracer provider.\n",
    "    tracer = trace.get_tracer(\"tracing-autogen-agentchat\")\n",
    "\n",
    "    # Use the tracer to create a span for the main function.\n",
    "    with tracer.start_as_current_span(\"run_team\"):\n",
    "        planning_agent = AssistantAgent(\n",
    "            \"PlanningAgent\",\n",
    "            description=\"An agent for planning tasks, this agent should be the first to engage when given a new task.\",\n",
    "            model_client=model_client,\n",
    "            system_message=\"\"\"\n",
    "            You are a planning agent.\n",
    "            Your job is to break down complex tasks into smaller, manageable subtasks.\n",
    "            Your team members are:\n",
    "                WebSearchAgent: Searches for information\n",
    "                DataAnalystAgent: Performs calculations\n",
    "\n",
    "            You only plan and delegate tasks - you do not execute them yourself.\n",
    "\n",
    "            When assigning tasks, use this format:\n",
    "            1. <agent> : <task>\n",
    "\n",
    "            After all tasks are complete, summarize the findings and end with \"TERMINATE\".\n",
    "            \"\"\",\n",
    "        )\n",
    "\n",
    "        web_search_agent = AssistantAgent(\n",
    "            \"WebSearchAgent\",\n",
    "            description=\"An agent for searching information on the web.\",\n",
    "            tools=[search_web_tool],\n",
    "            model_client=model_client,\n",
    "            system_message=\"\"\"\n",
    "            You are a web search agent.\n",
    "            Your only tool is search_tool - use it to find information.\n",
    "            You make only one search call at a time.\n",
    "            Once you have the results, you never do calculations based on them.\n",
    "            \"\"\",\n",
    "        )\n",
    "\n",
    "        data_analyst_agent = AssistantAgent(\n",
    "            \"DataAnalystAgent\",\n",
    "            description=\"An agent for performing calculations.\",\n",
    "            model_client=model_client,\n",
    "            tools=[percentage_change_tool],\n",
    "            system_message=\"\"\"\n",
    "            You are a data analyst.\n",
    "            Given the tasks you have been assigned, you should analyze the data and provide results using the tools provided.\n",
    "            If you have not seen the data, ask for it.\n",
    "            \"\"\",\n",
    "        )\n",
    "\n",
    "        text_mention_termination = TextMentionTermination(\"TERMINATE\")\n",
    "        max_messages_termination = MaxMessageTermination(max_messages=25)\n",
    "        termination = text_mention_termination | max_messages_termination\n",
    "\n",
    "        selector_prompt = \"\"\"Select an agent to perform task.\n",
    "\n",
    "        {roles}\n",
    "\n",
    "        Current conversation context:\n",
    "        {history}\n",
    "\n",
    "        Read the above conversation, then select an agent from {participants} to perform the next task.\n",
    "        Make sure the planner agent has assigned tasks before other agents start working.\n",
    "        Only select one agent.\n",
    "        \"\"\"\n",
    "\n",
    "        task = \"Who was the Miami Heat player with the highest points in the 2006-2007 season, and what was the percentage change in his total rebounds between the 2007-2008 and 2008-2009 seasons?\"\n",
    "\n",
    "        runtime = SingleThreadedAgentRuntime(\n",
    "            tracer_provider=trace.NoOpTracerProvider(),  # Disable telemetry for runtime.\n",
    "        )\n",
    "        runtime.start()\n",
    "\n",
    "        team = SelectorGroupChat(\n",
    "            [planning_agent, web_search_agent, data_analyst_agent],\n",
    "            model_client=model_client,\n",
    "            termination_condition=termination,\n",
    "            selector_prompt=selector_prompt,\n",
    "            allow_repeated_speaker=True,\n",
    "            runtime=runtime,\n",
    "        )\n",
    "        await Console(team.run_stream(task=task))\n",
    "\n",
    "        await runtime.stop()\n",
    "\n",
    "    await model_client.close()\n",
    "\n",
    "\n",
    "# asyncio.run(main())\n"
   ]
  },
  {
   "cell_type": "markdown",
   "id": "4467901e",
   "metadata": {},
   "source": [
    "You can then use the Jaeger UI to view the traces collected from the application run above."
   ]
  },
  {
   "attachments": {
    "image.png": {
     "image/png": "[encoded data removed]"
    }
   },
   "cell_type": "markdown",
   "id": "d5401b87",
   "metadata": {},
   "source": [
    "![image.png](attachment:image.png)"
   ]
  },
  {
   "cell_type": "markdown",
   "id": "96b3826c",
   "metadata": {},
   "source": [
    "# Studio"
   ]
  },
  {
   "cell_type": "markdown",
   "id": "bb27da56",
   "metadata": {},
   "source": [
    "- Low-code / No code app"
   ]
  },
  {
   "cell_type": "markdown",
   "id": "0abb6512",
   "metadata": {},
   "source": [
    "# Magentic One CLI"
   ]
  },
  {
   "cell_type": "markdown",
   "id": "f47a22fd",
   "metadata": {},
   "source": [
    "- A console-based assistant"
   ]
  },
  {
   "attachments": {
    "image.png": {
     "image/png": "[encoded data removed]"
    }
   },
   "cell_type": "markdown",
   "id": "36b317f9",
   "metadata": {},
   "source": [
    "![image.png](attachment:image.png)"
   ]
  }
 ],
 "metadata": {
  "kernelspec": {
   "display_name": ".venv",
   "language": "python",
   "name": "python3"
  },
  "language_info": {
   "codemirror_mode": {
    "name": "ipython",
    "version": 3
   },
   "file_extension": ".py",
   "mimetype": "text/x-python",
   "name": "python",
   "nbconvert_exporter": "python",
   "pygments_lexer": "ipython3",
   "version": "3.10.11"
  }
 },
 "nbformat": 4,
 "nbformat_minor": 5
}
