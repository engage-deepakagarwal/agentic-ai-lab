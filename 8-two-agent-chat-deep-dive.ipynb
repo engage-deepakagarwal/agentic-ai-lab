{
 "cells": [
  {
   "cell_type": "code",
   "execution_count": 1,
   "metadata": {},
   "outputs": [
    {
     "name": "stderr",
     "output_type": "stream",
     "text": [
      "c:\\TFS\\Study\\agentic-ai\\.venv\\lib\\site-packages\\flaml\\__init__.py:20: UserWarning: flaml.automl is not available. Please install flaml[automl] to enable AutoML functionalities.\n",
      "  warnings.warn(\"flaml.automl is not available. Please install flaml[automl] to enable AutoML functionalities.\")\n"
     ]
    }
   ],
   "source": [
    "from autogen import ConversableAgent\n",
    "import autogen"
   ]
  },
  {
   "cell_type": "code",
   "execution_count": 2,
   "metadata": {},
   "outputs": [],
   "source": [
    "config_list = autogen.config_list_from_json(\n",
    "    env_or_file=\"AOAI_CONFIG_LIST\",\n",
    "    file_location=\".\",\n",
    "    filter_dict={\n",
    "        \"model\": {\n",
    "            \"gpt-4o\"\n",
    "        }\n",
    "    },\n",
    ")"
   ]
  },
  {
   "cell_type": "code",
   "execution_count": 3,
   "metadata": {},
   "outputs": [],
   "source": [
    "student_agent = ConversableAgent(\n",
    "    name=\"Student_Agent\",\n",
    "    system_message=\"You are a student willing to learn.\",\n",
    "    llm_config={\"config_list\": config_list},\n",
    ")"
   ]
  },
  {
   "cell_type": "code",
   "execution_count": 4,
   "metadata": {},
   "outputs": [],
   "source": [
    "teacher_agent = ConversableAgent(\n",
    "    name=\"Teacher_Agent\",\n",
    "    system_message=\"You are a math teacher.\",\n",
    "    llm_config={\"config_list\": config_list},\n",
    ")"
   ]
  },
  {
   "cell_type": "code",
   "execution_count": 5,
   "metadata": {},
   "outputs": [
    {
     "name": "stdout",
     "output_type": "stream",
     "text": [
      "\u001b[33mStudent_Agent\u001b[0m (to Teacher_Agent):\n",
      "\n",
      "What is triangle inequality?\n",
      "\n",
      "--------------------------------------------------------------------------------\n",
      "\u001b[31m\n",
      ">>>>>>>> USING AUTO REPLY...\u001b[0m\n",
      "\u001b[33mTeacher_Agent\u001b[0m (to Student_Agent):\n",
      "\n",
      "The triangle inequality is a fundamental concept in geometry and mathematics that describes a property of the lengths of the sides of a triangle. It states that for any triangle with sides of lengths \\(a\\), \\(b\\), and \\(c\\):\n",
      "\n",
      "\\[ a + b > c, \\]\n",
      "\\[ a + c > b, \\]\n",
      "\\[ b + c > a. \\]\n",
      "\n",
      "In other words, the sum of the lengths of any two sides of a triangle must be greater than the length of the remaining side. This inequality helps to determine whether a given set of three lengths can form a triangle. If any of these conditions are not satisfied, the lengths cannot form a triangle.\n",
      "\n",
      "--------------------------------------------------------------------------------\n",
      "\u001b[31m\n",
      ">>>>>>>> USING AUTO REPLY...\u001b[0m\n",
      "\u001b[33mStudent_Agent\u001b[0m (to Teacher_Agent):\n",
      "\n",
      "The triangle inequality is a fundamental principle in geometry that states that for any triangle, the sum of the lengths of any two sides must be greater than the length of the remaining side. This can be formally stated as follows:\n",
      "\n",
      "For a triangle with sides of lengths \\(a\\), \\(b\\), and \\(c\\):\n",
      "\n",
      "1. \\(a + b > c\\)\n",
      "2. \\(a + c > b\\)\n",
      "3. \\(b + c > a\\)\n",
      "\n",
      "These inequalities must all hold true for three lengths to form a valid triangle. The triangle inequality ensures that the sides of a triangle are proportionate and can meet to enclose a space.\n",
      "\n",
      "--------------------------------------------------------------------------------\n",
      "\u001b[31m\n",
      ">>>>>>>> USING AUTO REPLY...\u001b[0m\n",
      "\u001b[33mTeacher_Agent\u001b[0m (to Student_Agent):\n",
      "\n",
      "Great explanation! The triangle inequality is indeed a crucial concept in geometry that ensures the sides of a triangle are proportionate and can meet to enclose a space. It also has important implications in various areas of mathematics and can be extended to higher dimensions and different contexts, such as the concept of distance in metric spaces. Keep up the good work!\n",
      "\n",
      "--------------------------------------------------------------------------------\n"
     ]
    }
   ],
   "source": [
    "chat_result = student_agent.initiate_chat(\n",
    "    teacher_agent,\n",
    "    message=\"What is triangle inequality?\",\n",
    "    summary_method=\"reflection_with_llm\",\n",
    "    max_turns=2,\n",
    ")"
   ]
  },
  {
   "cell_type": "code",
   "execution_count": 6,
   "metadata": {},
   "outputs": [
    {
     "name": "stdout",
     "output_type": "stream",
     "text": [
      "The triangle inequality states that for any triangle with sides of lengths \\(a\\), \\(b\\), and \\(c\\), the sum of the lengths of any two sides must be greater than the length of the remaining side. This ensures that the sides can meet to form a valid triangle.\n"
     ]
    }
   ],
   "source": [
    "print(chat_result.summary)"
   ]
  },
  {
   "cell_type": "markdown",
   "metadata": {},
   "source": [
    "- In the above example, the summary method is set to `reflection_with_llm` (default is `last_msg`) which takes a list of messages from the conversation and summarize them using a call to an LLM. \n",
    "- The summary method first tries to use the recipient’s LLM, if it is not available then it uses the sender’s LLM. \n",
    "- In this case the recipient is “Teacher_Agent” and the sender is “Student_Agent”."
   ]
  },
  {
   "cell_type": "code",
   "execution_count": 7,
   "metadata": {},
   "outputs": [
    {
     "name": "stdout",
     "output_type": "stream",
     "text": [
      "Summarize the takeaway from the conversation. Do not add any introductory phrases.\n"
     ]
    }
   ],
   "source": [
    "# The input prompt for the LLM is the following default prompt:\n",
    "print(ConversableAgent.DEFAULT_SUMMARY_PROMPT)"
   ]
  },
  {
   "cell_type": "markdown",
   "metadata": {},
   "source": [
    "You can also use a custom prompt by setting the `summary_prompt` argument of `initiate_chat`.\n",
    "\n",
    "That chat messages in the chat result are from the recipient agent’s perspective – the sender is the “assistant” and the recipient is the “user”."
   ]
  },
  {
   "cell_type": "code",
   "execution_count": 8,
   "metadata": {},
   "outputs": [
    {
     "name": "stdout",
     "output_type": "stream",
     "text": [
      "[{'content': 'What is triangle inequality?',\n",
      "  'name': 'Student_Agent',\n",
      "  'role': 'assistant'},\n",
      " {'content': 'The triangle inequality is a fundamental concept in geometry and '\n",
      "             'mathematics that describes a property of the lengths of the '\n",
      "             'sides of a triangle. It states that for any triangle with sides '\n",
      "             'of lengths \\\\(a\\\\), \\\\(b\\\\), and \\\\(c\\\\):\\n'\n",
      "             '\\n'\n",
      "             '\\\\[ a + b > c, \\\\]\\n'\n",
      "             '\\\\[ a + c > b, \\\\]\\n'\n",
      "             '\\\\[ b + c > a. \\\\]\\n'\n",
      "             '\\n'\n",
      "             'In other words, the sum of the lengths of any two sides of a '\n",
      "             'triangle must be greater than the length of the remaining side. '\n",
      "             'This inequality helps to determine whether a given set of three '\n",
      "             'lengths can form a triangle. If any of these conditions are not '\n",
      "             'satisfied, the lengths cannot form a triangle.',\n",
      "  'name': 'Teacher_Agent',\n",
      "  'role': 'user'},\n",
      " {'content': 'The triangle inequality is a fundamental principle in geometry '\n",
      "             'that states that for any triangle, the sum of the lengths of any '\n",
      "             'two sides must be greater than the length of the remaining side. '\n",
      "             'This can be formally stated as follows:\\n'\n",
      "             '\\n'\n",
      "             'For a triangle with sides of lengths \\\\(a\\\\), \\\\(b\\\\), and '\n",
      "             '\\\\(c\\\\):\\n'\n",
      "             '\\n'\n",
      "             '1. \\\\(a + b > c\\\\)\\n'\n",
      "             '2. \\\\(a + c > b\\\\)\\n'\n",
      "             '3. \\\\(b + c > a\\\\)\\n'\n",
      "             '\\n'\n",
      "             'These inequalities must all hold true for three lengths to form '\n",
      "             'a valid triangle. The triangle inequality ensures that the sides '\n",
      "             'of a triangle are proportionate and can meet to enclose a space.',\n",
      "  'name': 'Student_Agent',\n",
      "  'role': 'assistant'},\n",
      " {'content': 'Great explanation! The triangle inequality is indeed a crucial '\n",
      "             'concept in geometry that ensures the sides of a triangle are '\n",
      "             'proportionate and can meet to enclose a space. It also has '\n",
      "             'important implications in various areas of mathematics and can '\n",
      "             'be extended to higher dimensions and different contexts, such as '\n",
      "             'the concept of distance in metric spaces. Keep up the good work!',\n",
      "  'name': 'Teacher_Agent',\n",
      "  'role': 'user'}]\n"
     ]
    }
   ],
   "source": [
    "import pprint\n",
    "\n",
    "pprint.pprint(chat_result.chat_history)"
   ]
  },
  {
   "cell_type": "code",
   "execution_count": 9,
   "metadata": {},
   "outputs": [
    {
     "name": "stdout",
     "output_type": "stream",
     "text": [
      "{'usage_excluding_cached_inference': {'gpt-4o-2024-05-13': {'completion_tokens': 393,\n",
      "                                                            'cost': 0.010395,\n",
      "                                                            'prompt_tokens': 900,\n",
      "                                                            'total_tokens': 1293},\n",
      "                                      'total_cost': 0.010395},\n",
      " 'usage_including_cached_inference': {'gpt-4o-2024-05-13': {'completion_tokens': 393,\n",
      "                                                            'cost': 0.010395,\n",
      "                                                            'prompt_tokens': 900,\n",
      "                                                            'total_tokens': 1293},\n",
      "                                      'total_cost': 0.010395}}\n"
     ]
    }
   ],
   "source": [
    "# Get the cost of the chat.\n",
    "pprint.pprint(chat_result.cost)"
   ]
  }
 ],
 "metadata": {
  "kernelspec": {
   "display_name": ".venv",
   "language": "python",
   "name": "python3"
  },
  "language_info": {
   "codemirror_mode": {
    "name": "ipython",
    "version": 3
   },
   "file_extension": ".py",
   "mimetype": "text/x-python",
   "name": "python",
   "nbconvert_exporter": "python",
   "pygments_lexer": "ipython3",
   "version": "3.10.11"
  }
 },
 "nbformat": 4,
 "nbformat_minor": 2
}
